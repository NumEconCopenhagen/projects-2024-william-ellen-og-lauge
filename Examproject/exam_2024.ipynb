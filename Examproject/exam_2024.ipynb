{
 "cells": [
  {
   "cell_type": "markdown",
   "metadata": {},
   "source": [
    "**Table of contents**<a id='toc0_'></a>    \n",
    "- 1. [Problem 1: Production economy and CO2 taxation](#toc1_)    \n",
    "- 2. [Problem 2: Career choice model](#toc2_)    \n",
    "- 3. [Problem 3: Barycentric interpolation](#toc3_)    \n",
    "\n",
    "<!-- vscode-jupyter-toc-config\n",
    "\tnumbering=true\n",
    "\tanchor=true\n",
    "\tflat=false\n",
    "\tminLevel=2\n",
    "\tmaxLevel=6\n",
    "\t/vscode-jupyter-toc-config -->\n",
    "<!-- THIS CELL WILL BE REPLACED ON TOC UPDATE. DO NOT WRITE YOUR TEXT IN THIS CELL -->"
   ]
  },
  {
   "cell_type": "code",
   "execution_count": 1,
   "metadata": {},
   "outputs": [],
   "source": [
    "# Write your code here\n",
    "\n",
    "import numpy as np\n",
    "import pandas as pd\n",
    "\n",
    "from scipy.optimize import minimize, fsolve, minimize_scalar\n",
    "\n",
    "from types import SimpleNamespace\n",
    "import matplotlib.pyplot as plt"
   ]
  },
  {
   "cell_type": "markdown",
   "metadata": {},
   "source": [
    "## 1. <a id='toc1_'></a>[Problem 1: Production economy and CO2 taxation](#toc0_)"
   ]
  },
  {
   "cell_type": "markdown",
   "metadata": {},
   "source": [
    "Consider a production economy with two firms indexed by $j \\in \\{1,2\\}$. Each produce its own good. They solve\n",
    "\n",
    "$$\n",
    "\\begin{align*}\n",
    "\\max_{y_{j}}\\pi_{j}&=p_{j}y_{j}-w_{j}\\ell_{j}\\\\\\text{s.t.}\\;&y_{j}=A\\ell_{j}^{\\gamma}.\n",
    "\\end{align*}\n",
    "$$\n",
    "\n",
    "Optimal firm behavior is\n",
    "\n",
    "$$\n",
    "\\begin{align*}\n",
    "\\ell_{j}^{\\star}(w,p_{j})&=\\left(\\frac{p_{j}A\\gamma}{w}\\right)^{\\frac{1}{1-\\gamma}} \\\\\n",
    "y_{j}^{\\star}(w,p_{j})&=A\\left(\\ell_{j}^{\\star}(w,p_{j})\\right)^{\\gamma}\n",
    "\\end{align*}\n",
    "$$\n",
    "\n",
    "The implied profits are\n",
    "\n",
    "$$\n",
    "\\pi_{j}^*(w,p_{j})=\\frac{1-\\gamma}{\\gamma}w\\cdot\\left(\\frac{p_{j}A\\gamma}{w}\\right)^{\\frac{1}{1-\\gamma}}\n",
    "$$\n",
    "\n",
    "A single consumer supplies labor, and consumes the goods the firms produce. She also recieves the implied profits of the firm.<br>\n",
    "She solves:\n",
    "\n",
    "$$\n",
    "\\begin{align*}\n",
    "U(p_1,p_2,w,\\tau,T) = \\max_{c_{1},c_{2},\\ell} & \\log(c_{1}^{\\alpha}c_{2}^{1-\\alpha})-\\nu\\frac{\\ell^{1+\\epsilon}}{1+\\epsilon} \\\\\n",
    "\\text{s.t.}\\,\\,\\,&p_{1}c_{1}+(p_{2}+\\tau)c_{2}=w\\ell+T+\\pi_{1}^*(w,p_{1})+\\pi_{2}^*(w,p_{2})\n",
    "\\end{align*}\n",
    "$$\n",
    "\n",
    "where $\\tau$ is a tax and $T$ is lump-sum transfer. <br>\n",
    "For a given $\\ell$, it can be shown that optimal behavior is\n",
    "\n",
    "$$\n",
    "\\begin{align*}\n",
    "c_{1}(\\ell)&=\\alpha\\frac{w\\ell+T+\\pi_{1}^*(w,p_{1})+\\pi_{2}^*(w,p_{2})}{p_{1}} \\\\\n",
    "c_{2}(\\ell)&=(1-\\alpha)\\frac{w\\ell+T+\\pi_{1}^*(w,p_{1})+\\pi_{2}^*(w,p_{2})}{p_{2}+\\tau} \\\\\n",
    "\\end{align*}\n",
    "$$\n",
    "Such that optimal behavior is:\n",
    "$$\n",
    "\\ell^* = \\underset{\\ell}{\\arg\\max} \\log(\\left(c_{1}(\\ell)\\right)^{\\alpha}\\cdot \\left(c_{2}(\\ell)\\right)^{1-\\alpha})-\\nu\\frac{\\ell^{1+\\epsilon}}{1+\\epsilon} \n",
    "$$\n",
    "With optimal consumption:\n",
    "$$\n",
    "\\begin{align*}\n",
    "c_1^*=c_{1}(\\ell^*) \\\\\n",
    "c_2^*=c_{2}(\\ell^*)\\\\\n",
    "\\end{align*}\n",
    "$$\n",
    "\n",
    "\n",
    "The government chooses $\\tau$ and balances its budget so $T=\\tau c_2^*$. We initially set $\\tau,T=0$.\n",
    "\n",
    "Market clearing requires:\n",
    "\n",
    "1. Labor market: $\\ell^* = \\ell_1^* + \\ell_2^*$\n",
    "1. Good market 1: $c_1^* = y_1^*$\n",
    "1. Good market 2: $c_2^* = y_2^*$\n"
   ]
  },
  {
   "cell_type": "markdown",
   "metadata": {},
   "source": [
    "**Question 1:** Check market clearing conditions for $p_1$ in `linspace(0.1,2.0,10)` and $p_2$ in `linspace(0.1,2.0,10)`. We choose $w=1$ as numeraire."
   ]
  },
  {
   "cell_type": "code",
   "execution_count": 2,
   "metadata": {},
   "outputs": [],
   "source": [
    "par = SimpleNamespace()\n",
    "\n",
    "# firms\n",
    "par.A = 1.0\n",
    "par.gamma = 0.5\n",
    "\n",
    "# households\n",
    "par.alpha = 0.3\n",
    "par.nu = 1.0\n",
    "par.epsilon = 2.0\n",
    "w = 1.0\n",
    "\n",
    "# government\n",
    "par.tau = 0.0\n",
    "par.T = 0.0\n",
    "\n",
    "# Question 3\n",
    "par.kappa = 0.1\n"
   ]
  },
  {
   "cell_type": "code",
   "execution_count": 3,
   "metadata": {},
   "outputs": [
    {
     "name": "stdout",
     "output_type": "stream",
     "text": [
      "No market clearing conditions were met within the given price intervals.\n"
     ]
    }
   ],
   "source": [
    "# Supporting functions\n",
    "def labor_demand(p, A, gamma, w):\n",
    "    # Calculate the labor demand given price, productivity, gamma, and wage rate\n",
    "    return (p * A * gamma / w) ** (1 / (1 - gamma))\n",
    "\n",
    "def output(p, A, gamma, w):\n",
    "    # Calculate the output using the labor demand\n",
    "    l = labor_demand(p, A, gamma, w)\n",
    "    return A * l ** gamma\n",
    "\n",
    "def profit(p, A, gamma, w):\n",
    "    # Calculate the profit using price, productivity, gamma, and wage rate\n",
    "    l = labor_demand(p, A, gamma, w)\n",
    "    y = output(p, A, gamma, w)\n",
    "    return p * y - w * l\n",
    "\n",
    "def utility(p1, p2, w, tau, T, A, gamma, alpha, nu, epsilon):\n",
    "    # Calculate utility and optimize labor supply\n",
    "    def obj(l):\n",
    "        pi1 = profit(p1, A, gamma, w)\n",
    "        pi2 = profit(p2, A, gamma, w)\n",
    "        budget = w * l + T + pi1 + pi2\n",
    "        c1 = alpha * budget / p1\n",
    "        c2 = (1 - alpha) * budget / (p2 + tau)\n",
    "        U = np.log(c1 ** alpha * c2 ** (1 - alpha)) - nu * l ** (1 + epsilon) / (1 + epsilon)\n",
    "        return -U  # negative utility for minimization\n",
    "\n",
    "    result = minimize_scalar(obj, bounds=(0, 100), method='bounded')\n",
    "    l_star = result.x\n",
    "    pi1 = profit(p1, A, gamma, w)\n",
    "    pi2 = profit(p2, A, gamma, w)\n",
    "    budget = w * l_star + T + pi1 + pi2\n",
    "    c1_star = alpha * budget / p1\n",
    "    c2_star = (1 - alpha) * budget / (p2 + tau)\n",
    "    return c1_star, c2_star, l_star\n",
    "\n",
    "# Prices for good 1 and good 2\n",
    "p1_values = np.linspace(0.1, 2.0, 10)\n",
    "p2_values = np.linspace(0.1, 2.0, 10)\n",
    "\n",
    "# Check market clearing conditions for different price combinations\n",
    "market_clearing_results = []\n",
    "for p1 in p1_values:\n",
    "    for p2 in p2_values:\n",
    "        c1_star, c2_star, l_star = utility(p1, p2, w, par.tau, par.T, par.A, par.gamma, par.alpha, par.nu, par.epsilon)\n",
    "        l1_star = labor_demand(p1, par.A, par.gamma, w)\n",
    "        l2_star = labor_demand(p2, par.A, par.gamma, w)\n",
    "        y1_star = output(p1, par.A, par.gamma, w)\n",
    "        y2_star = output(p2, par.A, par.gamma, w)\n",
    "\n",
    "        # Check if labor market and goods markets clear\n",
    "        labor_market_clears = np.isclose(l_star, l1_star + l2_star)\n",
    "        good_market_1_clears = np.isclose(c1_star, y1_star)\n",
    "        good_market_2_clears = np.isclose(c2_star, y2_star)\n",
    "\n",
    "        result = {\n",
    "            'p1': p1, 'p2': p2,\n",
    "            'labor_market_clears': labor_market_clears,\n",
    "            'good_market_1_clears': good_market_1_clears,\n",
    "            'good_market_2_clears': good_market_2_clears,\n",
    "            'labor_market_clearing': l_star - (l1_star + l2_star),\n",
    "            'good1_market_clearing': c1_star - y1_star,\n",
    "            'good2_market_clearing': c2_star - y2_star\n",
    "        }\n",
    "        market_clearing_results.append(result)\n",
    "\n",
    "\n",
    "\n",
    "# # Convert the results to a DataFrame for better visualization\n",
    "# results_df = pd.DataFrame(market_clearing_results)\n",
    "\n",
    "# # Apply formatting to all float columns for readability\n",
    "# float_columns = results_df.select_dtypes(include=['float']).columns\n",
    "# results_df[float_columns] = results_df[float_columns].map(lambda x: f\"{x:.4f}\")\n",
    "\n",
    "# # Display the DataFrame using IPython display\n",
    "# display(results_df)\n",
    "\n",
    "# Another check for market clearing conditions, only store successful cases\n",
    "market_clearing_results1 = []\n",
    "for p1 in p1_values:\n",
    "    for p2 in p2_values:\n",
    "        c1_star, c2_star, l_star = utility(p1, p2, w, par.tau, par.T, par.A, par.gamma, par.alpha, par.nu, par.epsilon)\n",
    "        l1_star = labor_demand(p1, par.A, par.gamma, w)\n",
    "        l2_star = labor_demand(p2, par.A, par.gamma, w)\n",
    "        y1_star = output(p1, par.A, par.gamma, w)\n",
    "        y2_star = output(p2, par.A, par.gamma, w)\n",
    "\n",
    "        # Check conditions again\n",
    "        labor_market_clears = np.isclose(l_star, l1_star + l2_star)\n",
    "        good_market_1_clears = np.isclose(c1_star, y1_star)\n",
    "        good_market_2_clears = np.isclose(c2_star, y2_star)\n",
    "\n",
    "        if labor_market_clears and good_market_1_clears and good_market_2_clears:\n",
    "            result = {\n",
    "                'p1': p1, 'p2': p2, 'labor_market': labor_market_clears,\n",
    "                'good_market_1': good_market_1_clears, 'good_market_2': good_market_2_clears\n",
    "            }\n",
    "            market_clearing_results1.append(result)\n",
    "\n",
    "# Print results for combinations where market clearing conditions are met\n",
    "if market_clearing_results1:\n",
    "    print(\"Market clearing conditions are met for the following price combinations:\")\n",
    "    for result in market_clearing_results1:\n",
    "        print(result)\n",
    "else:\n",
    "    print(\"No market clearing conditions were met within the given price intervals.\")\n"
   ]
  },
  {
   "cell_type": "markdown",
   "metadata": {},
   "source": [
    "The findings of the previous cell indicate that the labor market, as well as the markets for goods 1 and 2, do not clear. This means that there is an imbalance between the demand and supply in these markets. You are also welcome to browse our dataframe. \n"
   ]
  },
  {
   "cell_type": "markdown",
   "metadata": {},
   "source": [
    "**Question 2:** Find the equilibrium prices $p_1$ and $p_2$.<br>\n",
    "*Hint: you can use Walras' law to only check 2 of the market clearings*"
   ]
  },
  {
   "cell_type": "code",
   "execution_count": 4,
   "metadata": {},
   "outputs": [
    {
     "name": "stdout",
     "output_type": "stream",
     "text": [
      "Equilibrium prices are p1 = 0.9759, p2 = 1.4908\n"
     ]
    }
   ],
   "source": [
    "# Definitions of the model's functions\n",
    "\n",
    "def labor_demand(p, A, gamma, w):\n",
    "    # Calculates the labor demand based on price, productivity, gamma, and wage rate\n",
    "    return (p * A * gamma / w) ** (1 / (1 - gamma))\n",
    "\n",
    "def output(p, A, gamma, w):\n",
    "    # Calculates the output using the labor demand\n",
    "    l = labor_demand(p, A, gamma, w)\n",
    "    return A * l ** gamma\n",
    "\n",
    "def profit(p, A, gamma, w):\n",
    "    # Calculates the profit based on price, productivity, gamma, and wage rate\n",
    "    l = labor_demand(p, A, gamma, w)\n",
    "    y = output(p, A, gamma, w)\n",
    "    return p * y - w * l\n",
    "\n",
    "def goods_market_clearing(prices):\n",
    "    # Determines if the goods markets clear for given prices\n",
    "    p1, p2 = prices\n",
    "    # Calculate utility, output for goods 1 and 2\n",
    "    c1_star, c2_star, l_star = utility(p1, p2, w, par.tau, par.T, par.A, par.gamma, par.alpha, par.nu, par.epsilon)\n",
    "    y1_star = output(p1, par.A, par.gamma, w)\n",
    "    y2_star = output(p2, par.A, par.gamma, w)\n",
    "    \n",
    "    # Calculate the market clearing conditions for goods 1 and 2\n",
    "    clear_good1 = c1_star - y1_star\n",
    "    clear_good2 = c2_star - y2_star\n",
    "    \n",
    "    return [clear_good1, clear_good2]\n",
    "\n",
    "# Root finding for equilibrium prices\n",
    "initial_guess = [1.0, 1.0]  # Initial guess for prices p1 and p2\n",
    "equilibrium_prices = fsolve(goods_market_clearing, initial_guess)\n",
    "\n",
    "# Print the equilibrium prices\n",
    "print(f\"Equilibrium prices are p1 = {equilibrium_prices[0]:.4f}, p2 = {equilibrium_prices[1]:.4f}\")\n"
   ]
  },
  {
   "cell_type": "markdown",
   "metadata": {},
   "source": [
    "The equilibrium prices are presented above. Since they are not found in the linspace above we do not find that the market clearing conditions are satisfied in q.1. Note that prices are in accordance with our a priori expectation since $\\alpha<1-alpha$. "
   ]
  },
  {
   "cell_type": "markdown",
   "metadata": {},
   "source": [
    "Assume the government care about the social welfare function:\n",
    "\n",
    "$$\n",
    "SWF = U - \\kappa y_2^*\n",
    "$$"
   ]
  },
  {
   "cell_type": "markdown",
   "metadata": {},
   "source": [
    "Here $\\kappa$ measures the social cost of carbon emitted by the production of $y_2$ in equilibrium."
   ]
  },
  {
   "cell_type": "markdown",
   "metadata": {},
   "source": [
    "**Question 3:** What values of $\\tau$ and (implied) $T$ should the government choose to maximize $SWF$?"
   ]
  },
  {
   "cell_type": "code",
   "execution_count": 5,
   "metadata": {},
   "outputs": [
    {
     "name": "stdout",
     "output_type": "stream",
     "text": [
      "Optimal tau: 0.13671402186939574\n",
      "Equilibrium prices with optimal tau: [0.95640298 1.39417101]\n",
      "Implied optimal T: 0.09530136325571639\n",
      "Social Welfare for tau = 0: -0.6621612864598336\n",
      "Social Welfare for optimal tau: -0.6596933786135991\n"
     ]
    },
    {
     "data": {
      "image/png": "[encoded data removed]",
      "text/plain": [
       "<Figure size 432x288 with 1 Axes>"
      ]
     },
     "metadata": {
      "needs_background": "light"
     },
     "output_type": "display_data"
    }
   ],
   "source": [
    "# We define a function to find equilibrium prices given a tax rate tau\n",
    "def find_equilibrium_prices(tau, initial_guess=[1.0, 1.0]):\n",
    "    def equilibrium_conditions(prices):\n",
    "        p1, p2 = prices\n",
    "        # We calculate utility, output for goods 1 and 2 with given prices and tau\n",
    "        c1_star, c2_star, l_star = utility(p1, p2, w, tau, 0, par.A, par.gamma, par.alpha, par.nu, par.epsilon)\n",
    "        y1_star = output(p1, par.A, par.gamma, w)\n",
    "        y2_star = output(p2, par.A, par.gamma, w)\n",
    "        # We return the differences between consumption and output to find equilibrium\n",
    "        return np.array([c1_star - y1_star, c2_star - y2_star]).flatten()\n",
    "    return fsolve(equilibrium_conditions, initial_guess)\n",
    "\n",
    "# We define a function to optimize social welfare given a tax rate tau\n",
    "def swf_optimization(tau):\n",
    "    # We find equilibrium prices for the given tau\n",
    "    p1, p2 = find_equilibrium_prices(tau)\n",
    "    # We calculate utility for the equilibrium prices and tau\n",
    "    c1_star, c2_star, l_star = utility(p1, p2, w, tau, 0, par.A, par.gamma, par.alpha, par.nu, par.epsilon)\n",
    "    T = tau * c2_star  # We calculate lump-sum transfer T\n",
    "    # We recalculate utility considering the transfer T\n",
    "    c1_star, c2_star, l_star = utility(p1, p2, w, tau, T, par.A, par.gamma, par.alpha, par.nu, par.epsilon)\n",
    "    y2_star = output(p2, par.A, par.gamma, w)\n",
    "    # We calculate the social welfare function (SWF)\n",
    "    U = np.log(c1_star ** par.alpha * c2_star ** (1 - par.alpha)) - par.nu * l_star ** (1 + par.epsilon) / (1 + par.epsilon)\n",
    "    SWF = U - par.kappa * y2_star\n",
    "    return -SWF  # We return negative SWF for minimization\n",
    "\n",
    "# We perform numerical optimization to find the optimal tax rate tau\n",
    "opt_result = minimize(lambda tau: swf_optimization(tau), 0.1, bounds=[(0, None)], method='L-BFGS-B')\n",
    "optimal_tau = opt_result.x[0]  # We find the optimal tau value\n",
    "optimal_prices = find_equilibrium_prices(optimal_tau)  # We find equilibrium prices for the optimal tau\n",
    "\n",
    "# We complete the utility function call to get c2_star for optimal tau\n",
    "_, optimal_c2_star, _ = utility(optimal_prices[0], optimal_prices[1], w, optimal_tau, 0, par.A, par.gamma, par.alpha, par.nu, par.epsilon)\n",
    "optimal_T = optimal_tau * optimal_c2_star  # We calculate the lump-sum transfer T using the correct c2_star\n",
    "\n",
    "# We calculate social welfare for tau = 0\n",
    "swf_tau_0 = -swf_optimization(0.0)\n",
    "\n",
    "# We calculate social welfare for the optimal tau\n",
    "swf_optimal_tau = -swf_optimization(optimal_tau)\n",
    "\n",
    "# We print the results\n",
    "print(f\"Optimal tau: {optimal_tau}\")\n",
    "print(f\"Equilibrium prices with optimal tau: {optimal_prices}\")\n",
    "print(f\"Implied optimal T: {optimal_T}\")\n",
    "print(f\"Social Welfare for tau = 0: {swf_tau_0}\")\n",
    "print(f\"Social Welfare for optimal tau: {swf_optimal_tau}\")\n",
    "\n",
    "# We calculate social welfare for different values of tau\n",
    "tau_values = np.linspace(0, 1, 100)\n",
    "swf_values = [-swf_optimization(tau) for tau in tau_values]\n",
    "\n",
    "# We plot social welfare vs tau\n",
    "plt.plot(tau_values, swf_values)\n",
    "plt.xlabel('tau')\n",
    "plt.ylabel('Social Welfare')\n",
    "plt.title('Social Welfare vs tau')\n",
    "plt.show()\n"
   ]
  },
  {
   "cell_type": "markdown",
   "metadata": {},
   "source": [
    "As presented above the government should choose $\\tau$ of 0.137.  This leads to less consumption of the harmful good $y_2$. Furthermore, since demand and supply is non-perfectly inelastic, the net producer price is lower. Also, $ SWF_{\\tau=0}< SWF_{\\tau=0.137}$, which is as we would expect."
   ]
  },
  {
   "cell_type": "markdown",
   "metadata": {},
   "source": [
    "## 2. <a id='toc2_'></a>[Problem 2: Career choice model](#toc0_)"
   ]
  },
  {
   "cell_type": "markdown",
   "metadata": {},
   "source": [
    "Consider a graduate $i$ making a choice between entering $J$ different career tracks. <br>\n",
    "Entering career $j$ yields utility $u^k_{ij}$. This value is unknown to the graduate ex ante, but will ex post be: <br>\n",
    "$$\n",
    "    u_{i,j}^k = v_{j} + \\epsilon_{i,j}^k\n",
    "$$\n",
    "\n",
    "They know that $\\epsilon^k_{i,j}\\sim \\mathcal{N}(0,\\sigma^2)$, but they do not observe $\\epsilon^k_{i,j}$ before making their career choice. <br>"
   ]
  },
  {
   "cell_type": "markdown",
   "metadata": {},
   "source": [
    "Consider the concrete case of $J=3$ with:\n",
    "$$\n",
    "\\begin{align*}\n",
    "    v_{1} &= 1 \\\\\n",
    "    v_{2} &= 2 \\\\\n",
    "    v_{3} &= 3\n",
    "\\end{align*}\n",
    "$$"
   ]
  },
  {
   "cell_type": "markdown",
   "metadata": {},
   "source": [
    "If the graduates know the values of $v_j$ and the distribution of $\\epsilon_{i,j}^k$, they can calculate the expected utility of each career track using simulation: <br>\n",
    "$$\n",
    "    \\mathbb{E}\\left[ u^k_{i,j}\\vert v_j \\right] \\approx v_j + \\frac{1}{K}\\sum_{k=1}^K \\epsilon_{i,j}^k\n",
    "$$"
   ]
  },
  {
   "cell_type": "code",
   "execution_count": 6,
   "metadata": {},
   "outputs": [],
   "source": [
    "par = SimpleNamespace()\n",
    "par.J = 3\n",
    "par.N = 10\n",
    "par.K = 10000\n",
    "par.F = np.arange(1,par.N+1)\n",
    "par.sigma = 2\n",
    "par.v = np.array([1,2,3])\n",
    "par.c = 1"
   ]
  },
  {
   "cell_type": "markdown",
   "metadata": {},
   "source": [
    "**Question 1:** Simulate and calculate expected utility and the average realised utility for $K=10000$ draws, for each career choice $j$.\n"
   ]
  },
  {
   "cell_type": "code",
   "execution_count": 7,
   "metadata": {},
   "outputs": [
    {
     "name": "stdout",
     "output_type": "stream",
     "text": [
      "Expected Utilities for each career track:\n",
      "  Career track 1: 1.0065238396\n",
      "  Career track 2: 2.0027111227\n",
      "  Career track 3: 3.0394694326\n",
      "Average Realized Utilities for each career track:\n",
      "  Career track 1: 1.0065238396\n",
      "  Career track 2: 2.0027111227\n",
      "  Career track 3: 3.0394694326\n"
     ]
    }
   ],
   "source": [
    "# Set the random seed for reproducibility\n",
    "np.random.seed(1312)\n",
    "\n",
    "# Generate all epsilon values at once using a normal distribution\n",
    "epsilon = np.random.normal(0, par.sigma, (par.K, par.J))\n",
    "\n",
    "# Function to calculate expected utility and average realized utility using pre-generated epsilon values\n",
    "def calculate_utilities(par, epsilon):\n",
    "    # Initialize arrays to store expected utilities and average realized utilities for each career track\n",
    "    expected_utilities = np.zeros(par.J)\n",
    "    average_realized_utilities = np.zeros(par.J)\n",
    "    \n",
    "    for j in range(par.J):\n",
    "        # Use the pre-generated epsilon values for each career track\n",
    "        epsilons = epsilon[:, j]\n",
    "        \n",
    "        # Calculate the expected utility for career track j\n",
    "        expected_utilities[j] = par.v[j] + np.mean(epsilons)\n",
    "        \n",
    "        # Calculate the average realized utility for career track j\n",
    "        realized_utilities = par.v[j] + epsilons\n",
    "        average_realized_utilities[j] = np.mean(realized_utilities)\n",
    "    \n",
    "    return expected_utilities, average_realized_utilities\n",
    "\n",
    "# Calculate the expected utilities and average realized utilities\n",
    "expected_utilities, average_realized_utilities = calculate_utilities(par, epsilon)\n",
    "\n",
    "# Print results with higher precision\n",
    "print(\"Expected Utilities for each career track:\")\n",
    "for j in range(par.J):\n",
    "    print(f\"  Career track {j+1}: {expected_utilities[j]:.10f}\")\n",
    "\n",
    "print(\"Average Realized Utilities for each career track:\")\n",
    "for j in range(par.J):\n",
    "    print(f\"  Career track {j+1}: {average_realized_utilities[j]:.10f}\")\n"
   ]
  },
  {
   "cell_type": "markdown",
   "metadata": {},
   "source": [
    "The calculated expected utilities and average realized utilities for each career track are identical, as shown by above. This consistency is expected because both calculations use the same simulated set of random $\\epsilon^k_{i,j}$ values, ensuring that the average noise term applied to each career track results in the same adjustment to the base utility values. This result highlight the minor influence of the noise term on the intrinsic utility values."
   ]
  },
  {
   "cell_type": "markdown",
   "metadata": {},
   "source": [
    "Now consider a new scenario: Imagine that the graduate does not know $v_j$. The *only* prior information they have on the value of each job, comes from their $F_{i}$ friends that work in each career $j$. After talking with them, they know the average utility of their friends (which includes their friends' noise term), giving them the prior expecation: <br>\n",
    "$$\n",
    "\\tilde{u}^k_{i,j}\\left( F_{i}\\right) = \\frac{1}{F_{i}}\\sum_{f=1}^{F_{i}} \\left(v_{j} + \\epsilon^k_{f,j}\\right), \\; \\epsilon^k_{f,j}\\sim \\mathcal{N}(0,\\sigma^2)\n",
    "$$\n",
    "For ease of notation consider that each graduate have $F_{i}=i$ friends in each career. <br>"
   ]
  },
  {
   "cell_type": "markdown",
   "metadata": {},
   "source": [
    "For $K$ times do the following: <br>\n",
    "1. For each person $i$ draw $J\\cdot F_i$ values of $\\epsilon_{f,j}^{k}$, and calculate the prior expected utility of each career track, $\\tilde{u}^k_{i,j}\\left( F_{i}\\right)$. <br>\n",
    "Also draw their own $J$ noise terms, $\\epsilon_{i,j}^k$\n",
    "1. Each person $i$ chooses the career track with the highest expected utility: $$j_i^{k*}= \\arg\\max_{j\\in{1,2\\dots,J}}\\left\\{ \\tilde{u}^k_{i,j}\\left( F_{i}\\right)\\right\\} $$\n",
    "1. Store the chosen careers: $j_i^{k*}$, the prior expectation of the value of their chosen career: $\\tilde{u}^k_{i,j=j_i^{k*}}\\left( F_{i}\\right)$, and the realized value of their chosen career track: $u^k_{i,j=j_i^{k*}}=v_{j=j_i^{k*}}+\\epsilon_{i,j=j_i^{k*}}^k$."
   ]
  },
  {
   "cell_type": "markdown",
   "metadata": {},
   "source": [
    "Chosen values will be: <br>\n",
    "$i\\in\\left\\{1,2\\dots,N\\right\\}, N=10$ <br>\n",
    "$F_i = i$<br>\n",
    "So there are 10 graduates. The first has 1 friend in each career, the second has 2 friends, ... the tenth has 10 friends."
   ]
  },
  {
   "cell_type": "markdown",
   "metadata": {},
   "source": [
    "**Question 2:** Simulate and visualize: For each type of graduate, $i$, the share of graduates choosing each career, the average subjective expected utility of the graduates, and the average ex post realized utility given their choice. <br>\n",
    "That is, calculate and visualize: <br>\n",
    "$$\n",
    "\\begin{align*}\n",
    "    \\frac{1}{K} \\sum_{k=1}^{K} \\mathbb{I}\\left\\{ j=j_i^{k*} \\right\\}  \\;\\forall j\\in\\left\\{1,2,\\dots,J\\right\\}\n",
    "\\end{align*}\n",
    "$$\n",
    "$$\n",
    "\\begin{align*}\n",
    "    \\frac{1}{K} \\sum_{k=1}^{K} \\tilde{u}^k_{ij=j_i^{k*}}\\left( F_{i}\\right)\n",
    "\\end{align*}\n",
    "$$\n",
    "And \n",
    "$$\n",
    "\\begin{align*}\n",
    "    \\frac{1}{K} \\sum_{k=1}^{K} u^k_{ij=j_i^{k*}} \n",
    "\\end{align*}\n",
    "$$\n",
    "For each graduate $i$."
   ]
  },
  {
   "cell_type": "markdown",
   "metadata": {},
   "source": [
    "After a year of working in their career, the graduates learn $u^k_{ij}$ for their chosen job $j_i^{k*}$ perfectly. <br>\n",
    "The can switch to one of the two remaining careers, for which they have the same prior as before, but it will now include a switching cost of $c$ which is known.\n",
    "Their new priors can be written as: \n",
    "$$\n",
    "\\tilde{u}^{k,2}_{ij}\\left( F_{i}\\right) = \\begin{cases}\n",
    "            \\tilde{u}^k_{ij}\\left( F_{i}\\right)-c & \\text{if } j \\neq j_i^{k*} \\\\\n",
    "            u_{ij=j_i^{k*}} & \\text{if } j = j_i^{k*}\n",
    "        \\end{cases}\n",
    "$$"
   ]
  },
  {
   "cell_type": "code",
   "execution_count": 8,
   "metadata": {},
   "outputs": [
    {
     "data": {
      "image/png": "[encoded data removed]",
      "text/plain": [
       "<Figure size 864x432 with 3 Axes>"
      ]
     },
     "metadata": {
      "needs_background": "light"
     },
     "output_type": "display_data"
    }
   ],
   "source": [
    "# We set the random seed for reproducibility\n",
    "np.random.seed(1312)\n",
    "\n",
    "# We generate all required random values upfront\n",
    "friend_epsilons = np.random.normal(0, par.sigma, (par.K, par.N, max(par.F), par.J))\n",
    "own_epsilons = np.random.normal(0, par.sigma, (par.K, par.N, par.J))\n",
    "\n",
    "# Function to calculate utilities and choices\n",
    "def simulate_career_choices(par, friend_epsilons, own_epsilons):\n",
    "    # We initialize arrays to store the results\n",
    "    shares = np.zeros((par.N, par.J))\n",
    "    avg_subjective_expected_utility = np.zeros(par.N)\n",
    "    avg_realized_utility = np.zeros(par.N)\n",
    "    \n",
    "    for k in range(par.K):  # Loop over each simulation\n",
    "        for i in range(par.N):  # Loop over each graduate\n",
    "            F_i = par.F[i]\n",
    "            prior_expected_utilities = np.zeros(par.J)\n",
    "            \n",
    "            for j in range(par.J):  # Loop over each career track\n",
    "                # We calculate friend noise terms for career track j\n",
    "                friend_noise_terms = friend_epsilons[k, i, :F_i, j]\n",
    "                prior_expected_utilities[j] = par.v[j] + np.mean(friend_noise_terms)\n",
    "                \n",
    "            # We determine the chosen career track based on prior expected utilities\n",
    "            chosen_career = np.argmax(prior_expected_utilities)\n",
    "            shares[i, chosen_career] += 1  # Update share for chosen career\n",
    "            avg_subjective_expected_utility[i] += prior_expected_utilities[chosen_career]  # Update subjective expected utility\n",
    "            avg_realized_utility[i] += par.v[chosen_career] + own_epsilons[k, i, chosen_career]  # Update realized utility\n",
    "    \n",
    "    # We average the results over all simulations\n",
    "    shares /= par.K\n",
    "    avg_subjective_expected_utility /= par.K\n",
    "    avg_realized_utility /= par.K\n",
    "    \n",
    "    return shares, avg_subjective_expected_utility, avg_realized_utility\n",
    "\n",
    "# We simulate career choices\n",
    "\n",
    "shares, avg_subjective_expected_utility, avg_realized_utility = simulate_career_choices(par, friend_epsilons, own_epsilons)\n",
    "\n",
    "# We calculate the difference in utility\n",
    "difference_in_utility = avg_subjective_expected_utility - avg_realized_utility\n",
    "\n",
    "# Visualization\n",
    "graduates = np.arange(1, par.N + 1)\n",
    "\n",
    "# We create a figure for plotting\n",
    "plt.figure(figsize=(12, 6))\n",
    "\n",
    "# Subplot 1: Share of graduates choosing each career as a line plot\n",
    "plt.subplot(1, 2, 1)\n",
    "for j in range(par.J):\n",
    "    plt.plot(graduates, shares[:, j], marker='o', label=f'Career {j+1}')\n",
    "plt.xlabel('Graduate (i)')\n",
    "plt.ylabel('Share choosing career')\n",
    "plt.legend()\n",
    "plt.title('Share of graduates choosing each career')\n",
    "\n",
    "# Subplot 2: Expected and realized utility as line plots, difference in utility as a bar plot with second y-axis\n",
    "ax2 = plt.subplot(1, 2, 2)\n",
    "\n",
    "# Line plot for expected utility\n",
    "ax2.plot(graduates, avg_subjective_expected_utility, 'b-o', label='Expected Utility')\n",
    "\n",
    "# Line plot for realized utility\n",
    "ax2.plot(graduates, avg_realized_utility, 'orange', marker='o', linestyle='-', label='Realized Utility')\n",
    "\n",
    "# We create a twin axes for the bar plot\n",
    "ax3 = ax2.twinx()\n",
    "ax3.bar(graduates, difference_in_utility, color='green', alpha=0.6, label='Difference in Utility')\n",
    "\n",
    "# We set labels and title for the plot\n",
    "ax2.set_xlabel('Graduate (i)')\n",
    "ax2.set_ylabel('Utility')\n",
    "ax2.set_title('Comparison of Expected and Realized Utility')\n",
    "ax2.set_xticks(graduates)\n",
    "ax2.legend(loc='upper left')\n",
    "ax3.set_ylabel('Difference in Utility')\n",
    "ax3.legend(loc='upper right')\n",
    "\n",
    "# We adjust the layout and display the plot\n",
    "plt.tight_layout()\n",
    "plt.show()\n"
   ]
  },
  {
   "cell_type": "markdown",
   "metadata": {},
   "source": [
    "The left figure illustrates the share of graduates choosing each career track as a function of the number of friends (graduates) $i$. It shows that with more friends (and hence more information), graduates are more likely to choose the career with the highest perceived utility (Career 3), while the shares for the less attractive careers (Careers 1 and 2) decrease. This pattern aligns with rational decision-making where better information leads to better choices.\n",
    "\n",
    "The right figure illustrates the Average Subjective Expected Utility for each graduate $i$ as the number of friends increases. The average subjective expected utility decreases as the number of friends increases. This suggests that as graduates consult more friends, their expected utility estimates become more conservative or lower. Additionally, the right figure illustrates the Average Realized Utility for each graduate $i$ as the number of friends increases. The utility increases as the number of friends increases, suggesting that graduates who consult more friends make more informed decisions, resulting in higher realized utility. This trend aligns with the left figure, indicating that having more information leads graduates to choose careers that yield higher utility. Lastly, we see that the difference in expected and realized utility decreases the more information the graduates have."
   ]
  },
  {
   "cell_type": "markdown",
   "metadata": {},
   "source": [
    "We will set $c=1$."
   ]
  },
  {
   "cell_type": "markdown",
   "metadata": {},
   "source": [
    "Their realized utility will be: <br>\n",
    "$$\n",
    "u^{k,2}_{ij}= \\begin{cases}\n",
    "            u_{ij}^k -c & \\text{if } j \\neq j_i^{k*} \\\\\n",
    "            u_{ij=j_i^{k*}} & \\text{if } j = j_i^{k*}\n",
    "        \\end{cases}\n",
    "$$"
   ]
  },
  {
   "cell_type": "markdown",
   "metadata": {},
   "source": [
    "**Question 3:** Following the same approach as in question 2, find the new optimal career choice for each $i$, $k$. Then for each $i$, calculate the average subjective expected utility from their new optimal career choice, and the ex post realized utility of that career. Also, for each $i$, calculate the share of graduates that chooses to switch careers, conditional on which career they chose in the first year. <br>"
   ]
  },
  {
   "cell_type": "code",
   "execution_count": 18,
   "metadata": {},
   "outputs": [
    {
     "data": {
      "image/png": "[encoded data removed]",
      "text/plain": [
       "<Figure size 1008x360 with 3 Axes>"
      ]
     },
     "metadata": {
      "needs_background": "light"
     },
     "output_type": "display_data"
    }
   ],
   "source": [
    "# We set the random seed for reproducibility\n",
    "np.random.seed(1312)\n",
    "\n",
    "# We initialize arrays to store results\n",
    "chosen_careers = np.zeros((par.N, par.K), dtype=int)\n",
    "prior_expectations = np.zeros((par.N, par.K))\n",
    "realized_utilities = np.zeros((par.N, par.K))\n",
    "new_chosen_careers = np.zeros((par.N, par.K), dtype=int)\n",
    "new_prior_expectations = np.zeros((par.N, par.K))\n",
    "new_realized_utilities = np.zeros((par.N, par.K))\n",
    "switch_decisions = np.zeros((par.N, par.K), dtype=bool)\n",
    "\n",
    "# Simulation\n",
    "for k in range(par.K):\n",
    "    for i in range(par.N):\n",
    "        F_i = par.F[i]\n",
    "        \n",
    "        # We draw epsilon values for friends\n",
    "        epsilon_friends = np.random.normal(0, par.sigma, (F_i, par.J))\n",
    "        \n",
    "        # We calculate prior expected utility for each career track\n",
    "        prior_expected_utilities = par.v + np.mean(epsilon_friends, axis=0)\n",
    "        \n",
    "        # We draw epsilon values for the graduate\n",
    "        epsilon_own = np.random.normal(0, par.sigma, par.J)\n",
    "        \n",
    "        # We choose the career track with the highest expected utility\n",
    "        chosen_career = np.argmax(prior_expected_utilities)\n",
    "        chosen_careers[i, k] = chosen_career\n",
    "        \n",
    "        # We store the prior expectation and realized utility of the chosen career\n",
    "        prior_expectations[i, k] = prior_expected_utilities[chosen_career]\n",
    "        realized_utilities[i, k] = par.v[chosen_career] + epsilon_own[chosen_career]\n",
    "        \n",
    "        # After one year, we recalculate the expected utilities including the switching cost\n",
    "        new_prior_expected_utilities = prior_expected_utilities - par.sigma\n",
    "        new_prior_expected_utilities[chosen_career] = realized_utilities[i, k]\n",
    "        \n",
    "        # We determine the new optimal career choice considering the switching cost\n",
    "        new_chosen_career = np.argmax(new_prior_expected_utilities)\n",
    "        new_chosen_careers[i, k] = new_chosen_career\n",
    "        \n",
    "        # We store the new prior expectation and realized utility\n",
    "        new_prior_expectations[i, k] = new_prior_expected_utilities[new_chosen_career]\n",
    "        if new_chosen_career == chosen_career:\n",
    "            new_realized_utilities[i, k] = realized_utilities[i, k]\n",
    "        else:\n",
    "            new_realized_utilities[i, k] = par.v[new_chosen_career] + epsilon_own[new_chosen_career] - par.sigma\n",
    "        \n",
    "        # We store the switch decision\n",
    "        switch_decisions[i, k] = (new_chosen_career != chosen_career)\n",
    "\n",
    "# We calculate the average subjective expected utility and average realized utility for the new career choices\n",
    "average_new_prior_expectations = np.mean(new_prior_expectations, axis=1)\n",
    "average_new_realized_utilities = np.mean(new_realized_utilities, axis=1)\n",
    "\n",
    "# We calculate the difference between expected and realized utility\n",
    "difference_in_utility = average_new_prior_expectations - average_new_realized_utilities\n",
    "\n",
    "# We calculate the share of graduates choosing to switch careers\n",
    "switch_shares = np.mean(switch_decisions, axis=1)\n",
    "\n",
    "# We calculate the conditional switch shares based on the initial career choice\n",
    "conditional_switch_shares = np.zeros((par.N, par.J))\n",
    "for i in range(par.N):\n",
    "    for j in range(par.J):\n",
    "        if np.sum(chosen_careers[i, :] == j) > 0:\n",
    "            conditional_switch_shares[i, j] = np.mean(switch_decisions[i, chosen_careers[i, :] == j])\n",
    "\n",
    "# Visualization\n",
    "fig, ax = plt.subplots(1, 2, figsize=(14, 5))\n",
    "\n",
    "# Line plot for average subjective expected utility and average realized utility for the new career choices\n",
    "x = np.arange(1, par.N + 1)\n",
    "\n",
    "# Line plot for expected utility\n",
    "ax[0].plot(x, average_new_prior_expectations, 'b-o', label='Expected Utility')\n",
    "\n",
    "# Line plot for realized utility\n",
    "ax[0].plot(x, average_new_realized_utilities, 'orange', marker='o', linestyle='-', label='Realized Utility')\n",
    "ax[0].set_xlabel('Graduate (i)')\n",
    "ax[0].set_ylabel('Utility')\n",
    "ax[0].set_title('Average Subjective Expected and Realized Utility of New Career Choices')\n",
    "ax[0].legend()\n",
    "\n",
    "# Bar plot for the difference in utility\n",
    "ax_diff = ax[0].twinx()\n",
    "ax_diff.bar(x, difference_in_utility, color='green', alpha=0.6, label='Difference in Utility')\n",
    "ax_diff.set_ylabel('Difference in Utility (right axis)', color='green')\n",
    "ax_diff.tick_params(axis='y', labelcolor='green')\n",
    "\n",
    "# We add a legend specifically for the bar plot of difference in utility\n",
    "handles, labels = ax_diff.get_legend_handles_labels()\n",
    "ax_diff.legend(handles=[handles[0]], labels=[labels[0]])\n",
    "\n",
    "# Line plot for the share of graduates choosing to switch careers, conditional on initial career choice\n",
    "for j in range(par.J):\n",
    "    ax[1].plot(x, conditional_switch_shares[:, j], marker='o', label=f'Career {j + 1}')\n",
    "ax[1].set_xlabel('Graduate (i)')\n",
    "ax[1].set_ylabel('Share Switching Career')\n",
    "ax[1].set_title('Share of Graduates Switching Careers (Conditional)')\n",
    "ax[1].legend()\n",
    "\n",
    "plt.tight_layout()\n",
    "plt.show()\n"
   ]
  },
  {
   "cell_type": "markdown",
   "metadata": {},
   "source": [
    "The left graph illustrates that both average subjective expected utility and average realized utility increase as graduates consult more friends. Now that there is a switching cost, we see that expected utility is much lower than in Question 2.2. Therefore, we also see that the difference in utilities for each type of graduate is lower (from 0.0-0.18 difference, where the gap was from 0.2-1.5 in exercise 2.2). The gap between expected and realized utility is still larger when there is less information available, particularly for graduates with fewer friends. This indicates that more information leads to better-informed career decisions, aligning expectations more closely with actual outcomes. The most significant improvements in utility occur with early information, demonstrating its high value in decision-making. As the number of friends increases, the utilities stabilize, showing diminishing returns from additional information.\n",
    "\n",
    "The right graph shows that the highest share of graduates initially choosing Career 1 switch careers, with around 35-40% switching, despite the switching cost. Career 2 has a moderate switch rate of approximately 20%, while Career 3 has the lowest switch rate at approximately 10%. This indicates that Career 3 provides the highest intrinsic utility, making graduates less likely to switch."
   ]
  },
  {
   "cell_type": "markdown",
   "metadata": {},
   "source": [
    "## 3. <a id='toc3_'></a>[Problem 3: Barycentric interpolation](#toc0_)"
   ]
  },
  {
   "cell_type": "markdown",
   "metadata": {},
   "source": [
    "**Problem:** We have a set of random points in the unit square,\n",
    "\n",
    "$$\n",
    "\\mathcal{X} = \\{(x_1,x_2)\\,|\\,x_1\\sim\\mathcal{U}(0,1),x_2\\sim\\mathcal{U}(0,1)\\}.\n",
    "$$\n",
    "\n",
    "For these points, we know the value of some function $f(x_1,x_2)$,\n",
    "\n",
    "$$\n",
    "\\mathcal{F} = \\{f(x_1,x_2) \\,|\\, (x_1,x_2) \\in \\mathcal{X}\\}.\n",
    "$$\n",
    "\n",
    "Now we want to approximate the value $f(y_1,y_2)$ for some  $y=(y_1,y_2)$, where $y_1\\sim\\mathcal{U}(0,1)$ and $y_2\\sim\\mathcal{U}(0,1)$.\n",
    "\n",
    "**Building block I**\n",
    "\n",
    "For an arbitrary triangle $ABC$ and a point $y$, define the so-called barycentric coordinates as:\n",
    "\n",
    "$$\n",
    "\\begin{align*}\n",
    "  r^{ABC}_1 &= \\frac{(B_2-C_2)(y_1-C_1) + (C_1-B_1)(y_2-C_2)}{(B_2-C_2)(A_1-C_1) + (C_1-B_1)(A_2-C_2)} \\\\\n",
    "  r^{ABC}_2 &= \\frac{(C_2-A_2)(y_1-C_1) + (A_1-C_1)(y_2-C_2)}{(B_2-C_2)(A_1-C_1) + (C_1-B_1)(A_2-C_2)} \\\\\n",
    "  r^{ABC}_3 &= 1 - r_1 - r_2.\n",
    "\\end{align*}\n",
    "$$\n",
    "\n",
    "If $r^{ABC}_1 \\in [0,1]$, $r^{ABC}_2 \\in [0,1]$, and $r^{ABC}_3 \\in [0,1]$, then the point is inside the triangle.\n",
    "\n",
    "We always have $y = r^{ABC}_1 A + r^{ABC}_2 B + r^{ABC}_3 C$.\n",
    "\n",
    "**Building block II**\n",
    "\n",
    "Define the following points:\n",
    "\n",
    "$$\n",
    "\\begin{align*}\n",
    "A&=\\arg\\min_{(x_{1},x_{2})\\in\\mathcal{X}}\\sqrt{\\left(x_{1}-y_{1}\\right)^{2}+\\left(x_{2}-y_{2}\\right)^{2}}\\text{ s.t. }x_{1}>y_{1}\\text{ and }x_{2}>y_{2}\\\\\n",
    "B&=\\arg\\min_{(x_{1},x_{2})\\in\\mathcal{X}}\\sqrt{\\left(x_{1}-y_{1}\\right)^{2}+\\left(x_{2}-y_{2}\\right)^{2}}\\text{ s.t. }x_{1}>y_{1}\\text{ and }x_{2}<y_{2}\\\\\n",
    "C&=\\arg\\min_{(x_{1},x_{2})\\in\\mathcal{X}}\\sqrt{\\left(x_{1}-y_{1}\\right)^{2}+\\left(x_{2}-y_{2}\\right)^{2}}\\text{ s.t. }x_{1}<y_{1}\\text{ and }x_{2}<y_{2}\\\\\n",
    "D&=\\arg\\min_{(x_{1},x_{2})\\in\\mathcal{X}}\\sqrt{\\left(x_{1}-y_{1}\\right)^{2}+\\left(x_{2}-y_{2}\\right)^{2}}\\text{ s.t. }x_{1}<y_{1}\\text{ and }x_{2}>y_{2}.\n",
    "\\end{align*}\n",
    "$$\n",
    "\n",
    "**Algorithm:**\n",
    "\n",
    "1. Compute $A$, $B$, $C$, and $D$. If not possible return `NaN`.\n",
    "1. If $y$ is inside the triangle $ABC$ return $r^{ABC}_1 f(A) + r^{ABC}_2 f(B) + r^{ABC}_3 f(C)$.\n",
    "1. If $y$ is inside the triangle $CDA$ return $r^{CDA}_1 f(C) + r^{CDA}_2 f(D) + r^{CDA}_3 f(A)$.\n",
    "1. Return `NaN`.\n",
    "\n"
   ]
  },
  {
   "cell_type": "markdown",
   "metadata": {},
   "source": [
    "**Sample:**"
   ]
  },
  {
   "cell_type": "code",
   "execution_count": 10,
   "metadata": {},
   "outputs": [],
   "source": [
    "rng = np.random.default_rng(2024)\n",
    "\n",
    "X = rng.uniform(size=(50,2))\n",
    "y = rng.uniform(size=(2,))\n"
   ]
  },
  {
   "cell_type": "markdown",
   "metadata": {},
   "source": [
    "**Questions 1:** Find $A$, $B$, $C$ and $D$. Illustrate these together with $X$, $y$ and the triangles $ABC$ and $CDA$."
   ]
  },
  {
   "cell_type": "code",
   "execution_count": 11,
   "metadata": {},
   "outputs": [
    {
     "data": {
      "image/png": "[encoded data removed]",
      "text/plain": [
       "<Figure size 576x576 with 1 Axes>"
      ]
     },
     "metadata": {
      "needs_background": "light"
     },
     "output_type": "display_data"
    }
   ],
   "source": [
    "\n",
    "\n",
    "# Defining function to find the points A, B, C and D\n",
    "def find_ABCD(X, y):\n",
    "    A = None\n",
    "    B = None\n",
    "    C = None\n",
    "    D = None\n",
    "    min_dist_A = float('inf')\n",
    "    min_dist_B = float('inf')\n",
    "    min_dist_C = float('inf')\n",
    "    min_dist_D = float('inf')\n",
    "    \n",
    "    # We make a loop through each point (x1, x2) in X to find A, B, C and D\n",
    "    for (x1, x2) in X:\n",
    "        # Calculate distance between (x1, x2) and y\n",
    "        dist = np.sqrt((x1 - y[0])**2 + (x2 - y[1])**2)\n",
    "        \n",
    "        # Finding the closest point satisfying our given conditions\n",
    "        if x1 > y[0] and x2 > y[1] and dist < min_dist_A:\n",
    "            A = (x1, x2)\n",
    "            min_dist_A = dist\n",
    "        \n",
    "        if x1 > y[0] and x2 < y[1] and dist < min_dist_B:\n",
    "            B = (x1, x2)\n",
    "            min_dist_B = dist\n",
    "        \n",
    "        if x1 < y[0] and x2 < y[1] and dist < min_dist_C:\n",
    "            C = (x1, x2)\n",
    "            min_dist_C = dist\n",
    "        \n",
    "        if x1 < y[0] and x2 > y[1] and dist < min_dist_D:\n",
    "            D = (x1, x2)\n",
    "            min_dist_D = dist\n",
    "    \n",
    "    return A, B, C, D\n",
    "\n",
    "# We find and define the points A, B, C and D\n",
    "A, B, C, D = find_ABCD(X, y)\n",
    "\n",
    "# We plot the figure\n",
    "plt.figure(figsize=(8, 8))\n",
    "plt.scatter(X[:, 0], X[:, 1], color='black', label='X')\n",
    "plt.scatter(y[0], y[1], color='red', label='y', marker='x', s=100)\n",
    "\n",
    "# Plotting A, B, C, D\n",
    "points = [A, B, C, D]\n",
    "labels = ['A', 'B', 'C', 'D']\n",
    "colors = ['green', 'blue', 'orange', 'purple']\n",
    "\n",
    "for i, point in enumerate(points):\n",
    "    if point:\n",
    "        plt.scatter(point[0], point[1], color=colors[i], label=labels[i], s=100)\n",
    "\n",
    "# Drawing triangles ABC and CDA (under the condition that A, B, C and D are found)\n",
    "if all(point is not None for point in [A, B, C, D]):\n",
    "    plt.plot([A[0], B[0], C[0], A[0]], [A[1], B[1], C[1], A[1]], 'g-', label='ABC')\n",
    "    plt.plot([C[0], D[0], A[0], C[0]], [C[1], D[1], A[1], C[1]], 'm-', label='CDA')\n",
    "\n",
    "plt.xlim(0, 1)\n",
    "plt.ylim(0, 1)\n",
    "plt.title('Random Points X, y and Triangles ABC and CDA')\n",
    "plt.xlabel('x1')\n",
    "plt.ylabel('x2')\n",
    "plt.legend()\n",
    "plt.grid(True)\n",
    "plt.show()"
   ]
  },
  {
   "cell_type": "markdown",
   "metadata": {},
   "source": [
    "In the figure above, we have illustrated the set of random points in the unit square. For an arbitrary triangle ABC and a point y, we have defined the barycentric coordinates as depicted above. We have defined and computed the points A, B, C and D, and we have used the seed=2024. Visually, we see that the point $y$ is located within the triangle."
   ]
  },
  {
   "cell_type": "markdown",
   "metadata": {},
   "source": [
    "**Question 2:** Compute the barycentric coordinates of the point $y$ with respect to the triangles $ABC$ and $CDA$. Which triangle is $y$ located inside?"
   ]
  },
  {
   "cell_type": "code",
   "execution_count": 12,
   "metadata": {},
   "outputs": [
    {
     "name": "stdout",
     "output_type": "stream",
     "text": [
      "Point y = [0.20901926 0.37774759] is inside triangle ABC.\n",
      "Barycentric coordinates for triangle ABC: (0.6286263152916166, 0.06910145494351515, 0.3022722297648682)\n"
     ]
    }
   ],
   "source": [
    "\n",
    "# We use this function to compute the barycentric coordinates\n",
    "def compute_barycentric_coordinates(y, A, B, C, D):\n",
    "    # CChecking if any of A, B, C and D is 'None'\n",
    "    if any(point is None for point in [A, B, C, D]):\n",
    "        return None, None\n",
    "    \n",
    "    # Finding the coordinates of points A, B, C and D\n",
    "    A1, A2 = A\n",
    "    B1, B2 = B\n",
    "    C1, C2 = C\n",
    "    D1, D2 = D\n",
    "    y1, y2 = y\n",
    "    \n",
    "    # Finding the Barycentric coordinates for triangle ABC\n",
    "    denom_ABC = (B2 - C2)*(A1 - C1) + (C1 - B1)*(A2 - C2)\n",
    "    if denom_ABC == 0:\n",
    "        r1_ABC = 0\n",
    "        r2_ABC = 0\n",
    "    else:\n",
    "        r1_ABC = ((B2 - C2)*(y1 - C1) + (C1 - B1)*(y2 - C2)) / denom_ABC\n",
    "        r2_ABC = ((C2 - A2)*(y1 - C1) + (A1 - C1)*(y2 - C2)) / denom_ABC\n",
    "    r3_ABC = 1 - r1_ABC - r2_ABC\n",
    "    \n",
    "    # Finding the Barycentric coordinates for triangle CDA\n",
    "    denom_CDA = (D2 - A2)*(C1 - A1) + (A1 - D1)*(C2 - A2)\n",
    "    if denom_CDA == 0:\n",
    "        r1_CDA = 0\n",
    "        r2_CDA = 0\n",
    "    else:\n",
    "        r1_CDA = ((D2 - A2)*(y1 - A1) + (A1 - D1)*(y2 - A2)) / denom_CDA\n",
    "        r2_CDA = ((A2 - C2)*(y1 - A1) + (C1 - A1)*(y2 - A2)) / denom_CDA\n",
    "    r3_CDA = 1 - r1_CDA - r2_CDA\n",
    "    \n",
    "    return (r1_ABC, r2_ABC, r3_ABC), (r1_CDA, r2_CDA, r3_CDA)\n",
    "\n",
    "# Defining a function to determine which triangle y is inside\n",
    "def point_inside_triangle(y, A, B, C, D):\n",
    "    # Computing Barycentric coordinates\n",
    "    bary_ABC, bary_CDA = compute_barycentric_coordinates(y, A, B, C, D)\n",
    "    \n",
    "    if bary_ABC is not None:\n",
    "        # Checking if y is inside triangle ABC\n",
    "        if all(0 <= r <= 1 for r in bary_ABC) and np.isclose(sum(bary_ABC), 1):\n",
    "            return \"ABC\"\n",
    "    \n",
    "    if bary_CDA is not None:\n",
    "        # Checking if y is inside triangle CDA\n",
    "        if all(0 <= r <= 1 for r in bary_CDA) and np.isclose(sum(bary_CDA), 1):\n",
    "            return \"CDA\"\n",
    "    \n",
    "    return \"NaN\"\n",
    "\n",
    "# Then, we can determine which triangle y is inside\n",
    "triangle = point_inside_triangle(y, A, B, C, D)\n",
    "\n",
    "# Printing the results\n",
    "print(f\"Point y = {y} is inside triangle {triangle}.\")\n",
    "\n",
    "# Finally, we print the Barycentric coordinates if y is inside a triangle\n",
    "if triangle in ['ABC', 'CDA']:\n",
    "    bary_ABC, bary_CDA = compute_barycentric_coordinates(y, A, B, C, D)\n",
    "    if triangle == 'ABC':\n",
    "        print(f\"Barycentric coordinates for triangle ABC: {bary_ABC}\")\n",
    "    elif triangle == 'CDA':\n",
    "        print(f\"Barycentric coordinates for triangle CDA: {bary_CDA}\")\n"
   ]
  },
  {
   "cell_type": "markdown",
   "metadata": {},
   "source": [
    "We find the coordinates for y: $y = [0.20901926, 0.37774759]$. We find that y is thus inside the triangle ABC, using the defined functions. The Barycentric coordinates for triangle ABC are found using the formulas for the coordinates $r_1,\\; r_2\\;\\text{and}\\; r_3$."
   ]
  },
  {
   "cell_type": "markdown",
   "metadata": {},
   "source": [
    "Now consider the function:\n",
    "$$\n",
    "f(x_1,x_2) = x_1 \\cdot x_2\n",
    "$$"
   ]
  },
  {
   "cell_type": "code",
   "execution_count": 13,
   "metadata": {},
   "outputs": [],
   "source": [
    "f = lambda x: x[0]*x[1]\n",
    "F = np.array([f(x) for x in X])"
   ]
  },
  {
   "cell_type": "markdown",
   "metadata": {},
   "source": [
    "**Question 3:** Compute the approximation of $f(y)$ using the full algorithm. Compare with the true value."
   ]
  },
  {
   "cell_type": "code",
   "execution_count": 14,
   "metadata": {},
   "outputs": [
    {
     "name": "stdout",
     "output_type": "stream",
     "text": [
      "True value of f(y): 0.0789565216259594\n",
      "Approximation of f(y) using triangle ABC: 0.08405201731052576\n",
      "Approximation of f(y) using triangle CDA: 0.08522314835313917\n"
     ]
    }
   ],
   "source": [
    "\n",
    "# Using function to compute approximation of f(y)\n",
    "def approximate_f(y, A, B, C, D, bary_ABC, bary_CDA):\n",
    "    # Values of f at A, B, C, D\n",
    "    fA = f(A) if A is not None else None\n",
    "    fB = f(B) if B is not None else None\n",
    "    fC = f(C) if C is not None else None\n",
    "    fD = f(D) if D is not None else None\n",
    "    \n",
    "    # Check if any f value is None\n",
    "    if any(value is None for value in [fA, fB, fC, fD]):\n",
    "        return None, None\n",
    "    \n",
    "    # Check if barycentric coordinates are None\n",
    "    if bary_ABC is None or bary_CDA is None:\n",
    "        return None, None\n",
    "    \n",
    "    # Compute approximation using barycentric coordinates\n",
    "    f_y_ABC = bary_ABC[0] * fA + bary_ABC[1] * fB + bary_ABC[2] * fC\n",
    "    f_y_CDA = bary_CDA[0] * fC + bary_CDA[1] * fD + bary_CDA[2] * fA\n",
    "    \n",
    "    return f_y_ABC, f_y_CDA\n",
    "\n",
    "# Computing approximation of f(y)\n",
    "f_y_ABC, f_y_CDA = approximate_f(y, A, B, C, D, bary_ABC, bary_CDA)\n",
    "\n",
    "# Computing true value of f(y)\n",
    "true_f_y = f(y)\n",
    "\n",
    "# Printing the results\n",
    "print(f\"True value of f(y): {true_f_y}\")\n",
    "print(f\"Approximation of f(y) using triangle ABC: {f_y_ABC}\")\n",
    "print(f\"Approximation of f(y) using triangle CDA: {f_y_CDA}\")"
   ]
  },
  {
   "cell_type": "markdown",
   "metadata": {},
   "source": [
    "The approximation of $f(y)$ using triangles $ABC$ and $CDA$ leverages barycentric coordinates to interpolate the function values at A, B, C and D relative to y's position within these triangles. We find that the true value of $f(y)=0.0789565216259594$, using the function for f and y's coordinates. The approximations of $f(y)$ based on the triangles ABC and CDA are equal to $f(y)_{ABC}=0.08405201731052576$ and $f(y)_{CDA}=0.08522314835313917$, where the approximation based on the triangle ABC is closer to the true value. \n",
    "\n",
    "Barycentric Coordinates measure how $y$ is positioned relative to $A, B$, and $C$ in triangle $ABC$. Inside the triangle, these coordinates directly influence the interpolation of $f(y)$. The interpolation formula $f(y) \\approx r1_{ABC} \\cdot f(A) + r2_{ABC} \\cdot f(B) + r3_{ABC} \\cdot f(C)$ uses $f$'s values at $A, B$, and $C$, providing a close approximation due to $y$'s proximity to these points. Since $y$ is within $ABC$, this method leverages nearby points to compute $f(y)$, yielding an approximation closer to $f(y) = y_1 \\cdot y_2$."
   ]
  },
  {
   "cell_type": "markdown",
   "metadata": {},
   "source": [
    "**Question 4:** Repeat question 3 for all points in the set $Y$."
   ]
  },
  {
   "cell_type": "code",
   "execution_count": 15,
   "metadata": {},
   "outputs": [],
   "source": [
    "Y = [(0.2,0.2),(0.8,0.2),(0.8,0.8),(0.8,0.2),(0.5,0.5)]"
   ]
  },
  {
   "cell_type": "code",
   "execution_count": 16,
   "metadata": {},
   "outputs": [
    {
     "name": "stdout",
     "output_type": "stream",
     "text": [
      "Point y = (0.2, 0.2)\n",
      "True value of f(y): 0.04\n",
      "Approximation of f(y) using triangle ABC: 0.04032631372248057\n",
      "Approximation of f(y) using triangle CDA: 0.04891427997791255\n",
      "\n",
      "Point y = (0.8, 0.2)\n",
      "True value of f(y): 0.16\n",
      "Approximation of f(y) using triangle ABC: 0.15874233999349835\n",
      "Approximation of f(y) using triangle CDA: 0.17161756257153477\n",
      "\n",
      "Point y = (0.8, 0.8)\n",
      "True value of f(y): 0.64\n",
      "No suitable triangle ABC found.\n",
      "No suitable triangle CDA found.\n",
      "\n",
      "Point y = (0.8, 0.2)\n",
      "True value of f(y): 0.16\n",
      "Approximation of f(y) using triangle ABC: 0.15874233999349835\n",
      "Approximation of f(y) using triangle CDA: 0.17161756257153477\n",
      "\n",
      "Point y = (0.5, 0.5)\n",
      "True value of f(y): 0.25\n",
      "Approximation of f(y) using triangle ABC: 0.2512901561119622\n",
      "Approximation of f(y) using triangle CDA: 0.26924758697601353\n",
      "\n"
     ]
    }
   ],
   "source": [
    "\n",
    "# Iterating over points in Y\n",
    "for y in Y:\n",
    "    # Finding points A, B, C and D\n",
    "    A, B, C, D = find_ABCD(X, y)\n",
    "    \n",
    "    # Computing Barycentric coordinates\n",
    "    bary_ABC, bary_CDA = compute_barycentric_coordinates(y, A, B, C, D)\n",
    "    \n",
    "    # Computing approximation of f(y)\n",
    "    f_y_ABC, f_y_CDA = approximate_f(y, A, B, C, D, bary_ABC, bary_CDA)\n",
    "    \n",
    "    # Computing the true value of f(y)\n",
    "    true_f_y = round(f(y),2)\n",
    "    \n",
    "    # Printing results\n",
    "    print(f\"Point y = {y}\")\n",
    "    print(f\"True value of f(y): {true_f_y}\")\n",
    "    if bary_ABC is not None:\n",
    "        print(f\"Approximation of f(y) using triangle ABC: {f_y_ABC}\")\n",
    "    else:\n",
    "        print(\"No suitable triangle ABC found.\")\n",
    "    if bary_CDA is not None:\n",
    "        print(f\"Approximation of f(y) using triangle CDA: {f_y_CDA}\")\n",
    "    else:\n",
    "        print(\"No suitable triangle CDA found.\")\n",
    "    print()"
   ]
  },
  {
   "cell_type": "code",
   "execution_count": 17,
   "metadata": {},
   "outputs": [
    {
     "data": {
      "image/png": "[encoded data removed]",
      "text/plain": [
       "<Figure size 576x576 with 1 Axes>"
      ]
     },
     "metadata": {
      "needs_background": "light"
     },
     "output_type": "display_data"
    }
   ],
   "source": [
    "# Defining the set Y with labels - here with labels for the plot\n",
    "Y = [((0.2, 0.2), 'y1'),((0.8, 0.8), 'y2'), ((0.8, 0.2), 'y3'), ((0.5, 0.5), 'y4')]\n",
    "\n",
    "# Plotting\n",
    "plt.figure(figsize=(8, 8))\n",
    "plt.scatter(X[:, 0], X[:, 1], color='black', label='X')\n",
    "\n",
    "# Lists to collect handles for the legend\n",
    "legend_handles = []\n",
    "\n",
    "# Iterating over points in Y\n",
    "for y, label in Y:\n",
    "    # Finding points A, B, C and D\n",
    "    A, B, C, D = find_ABCD(X, y)\n",
    "    \n",
    "    # Compute Barycentric coordinates\n",
    "    bary_ABC, bary_CDA = compute_barycentric_coordinates(y, A, B, C, D)\n",
    "    \n",
    "    # Plot y with unique colors\n",
    "    color = plt.cm.tab10(hash(label) % 10)  # Assign unique color based on label\n",
    "    legend_handles.append(plt.scatter(y[0], y[1], color=color, label=label, marker='x', s=100))\n",
    "    \n",
    "    # Plotting A, B, C and D\n",
    "    points = [A, B, C, D]\n",
    "    labels = ['A', 'B', 'C', 'D']\n",
    "    colors = ['green', 'blue', 'orange', 'purple']\n",
    "    \n",
    "    for i, point in enumerate(points):\n",
    "        if point:\n",
    "            plt.scatter(point[0], point[1], color=colors[i], label=None, s=100)\n",
    "    \n",
    "    # Drawing triangles ABC and CDA if A, B, C, D are found\n",
    "    if all(point is not None for point in [A, B, C, D]):\n",
    "        plt.plot([A[0], B[0], C[0], A[0]], [A[1], B[1], C[1], A[1]], 'g-', label=None)\n",
    "        plt.plot([C[0], D[0], A[0], C[0]], [C[1], D[1], A[1], C[1]], 'm-', label=None)\n",
    "\n",
    "# Show legend only for points y1 to y4\n",
    "plt.legend(handles=legend_handles, loc='upper right', title='Points Y')\n",
    "\n",
    "# Adjusting plot limits, labels, and titles\n",
    "plt.xlim(0, 1)\n",
    "plt.ylim(0, 1)\n",
    "plt.title(f'Random Points X and Triangles ABC, CDA for Points in Y')\n",
    "plt.xlabel('x1')\n",
    "plt.ylabel('x2')\n",
    "plt.grid(True)\n",
    "plt.show()"
   ]
  },
  {
   "cell_type": "markdown",
   "metadata": {},
   "source": [
    "The results highlight the effectiveness of triangle-based interpolation for approximating $f(y)$ in a 2D space. Points where triangles $ABC$ and $CDA$ are formed generally yield close approximations to the true values of $f(y)$, demonstrating the method's accuracy. For example, at point $y = (0.2, 0.2)$, the approximation using triangle $ABC$ ($0.04032631372248057$) is very close to the true value of $0.04$ because of the fact that point y lies within triangle $ABC$ and benefits from a precise interpolation. In contrast, at $y = (0.8, 0.8)$, where no suitable triangles could be formed, accurate approximations were not possible, underscoring the method's dependency on the availability of neighboring points for triangulation."
   ]
  }
 ],
 "metadata": {
  "kernelspec": {
   "display_name": "base",
   "language": "python",
   "name": "python3"
  },
  "language_info": {
   "codemirror_mode": {
    "name": "ipython",
    "version": 3
   },
   "file_extension": ".py",
   "mimetype": "text/x-python",
   "name": "python",
   "nbconvert_exporter": "python",
   "pygments_lexer": "ipython3",
   "version": "3.9.12"
  }
 },
 "nbformat": 4,
 "nbformat_minor": 2
}
