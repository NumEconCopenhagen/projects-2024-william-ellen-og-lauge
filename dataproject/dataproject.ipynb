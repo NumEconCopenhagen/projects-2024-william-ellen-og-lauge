{
 "cells": [
  {
   "cell_type": "markdown",
   "metadata": {},
   "source": [
    "# YOUR PROJECT TITLE"
   ]
  },
  {
   "attachments": {},
   "cell_type": "markdown",
   "metadata": {},
   "source": [
    "> **Note the following:** \n",
    "> 1. This is *not* meant to be an example of an actual **data analysis project**, just an example of how to structure such a project.\n",
    "> 1. Remember the general advice on structuring and commenting your code\n",
    "> 1. The `dataproject.py` file includes a function which can be used multiple times in this notebook."
   ]
  },
  {
   "cell_type": "markdown",
   "metadata": {},
   "source": [
    "Imports and set magics:"
   ]
  },
  {
   "cell_type": "code",
   "execution_count": 17,
   "metadata": {},
   "outputs": [
    {
     "name": "stdout",
     "output_type": "stream",
     "text": [
      "Collecting git+https://github.com/alemartinello/dstapi\n",
      "  Cloning https://github.com/alemartinello/dstapi to c:\\users\\william gormsen\\appdata\\local\\temp\\pip-req-build-2u8mhtze\n",
      "  Resolved https://github.com/alemartinello/dstapi to commit d9eeb5a82cbc70b7d63b2ff44d92632fd77123a4\n",
      "  Preparing metadata (setup.py): started\n",
      "  Preparing metadata (setup.py): finished with status 'done'\n",
      "Requirement already satisfied: pandas in c:\\users\\william gormsen\\anaconda3\\lib\\site-packages (from dstapi==0.2) (2.1.4)\n",
      "Requirement already satisfied: requests in c:\\users\\william gormsen\\anaconda3\\lib\\site-packages (from dstapi==0.2) (2.31.0)\n",
      "Requirement already satisfied: numpy<2,>=1.23.2 in c:\\users\\william gormsen\\anaconda3\\lib\\site-packages (from pandas->dstapi==0.2) (1.26.3)\n",
      "Requirement already satisfied: python-dateutil>=2.8.2 in c:\\users\\william gormsen\\anaconda3\\lib\\site-packages (from pandas->dstapi==0.2) (2.8.2)\n",
      "Requirement already satisfied: pytz>=2020.1 in c:\\users\\william gormsen\\anaconda3\\lib\\site-packages (from pandas->dstapi==0.2) (2023.3.post1)\n",
      "Requirement already satisfied: tzdata>=2022.1 in c:\\users\\william gormsen\\anaconda3\\lib\\site-packages (from pandas->dstapi==0.2) (2023.3)\n",
      "Requirement already satisfied: charset-normalizer<4,>=2 in c:\\users\\william gormsen\\anaconda3\\lib\\site-packages (from requests->dstapi==0.2) (2.0.4)\n",
      "Requirement already satisfied: idna<4,>=2.5 in c:\\users\\william gormsen\\anaconda3\\lib\\site-packages (from requests->dstapi==0.2) (3.4)\n",
      "Requirement already satisfied: urllib3<3,>=1.21.1 in c:\\users\\william gormsen\\anaconda3\\lib\\site-packages (from requests->dstapi==0.2) (1.26.18)\n",
      "Requirement already satisfied: certifi>=2017.4.17 in c:\\users\\william gormsen\\anaconda3\\lib\\site-packages (from requests->dstapi==0.2) (2024.2.2)\n",
      "Requirement already satisfied: six>=1.5 in c:\\users\\william gormsen\\anaconda3\\lib\\site-packages (from python-dateutil>=2.8.2->pandas->dstapi==0.2) (1.16.0)\n",
      "Note: you may need to restart the kernel to use updated packages.\n",
      "The autoreload extension is already loaded. To reload it, use:\n",
      "  %reload_ext autoreload\n"
     ]
    },
    {
     "name": "stderr",
     "output_type": "stream",
     "text": [
      "  Running command git clone --filter=blob:none --quiet https://github.com/alemartinello/dstapi 'C:\\Users\\William Gormsen\\AppData\\Local\\Temp\\pip-req-build-2u8mhtze'\n"
     ]
    }
   ],
   "source": [
    "import pandas as pd\n",
    "import numpy as np\n",
    "import matplotlib.pyplot as plt\n",
    "import ipywidgets as widgets\n",
    "plt.rcParams.update({\"axes.grid\":True,\"grid.color\":\"black\",\"grid.alpha\":\"0.25\",\"grid.linestyle\":\"--\"})\n",
    "plt.rcParams.update({'font.size': 14})\n",
    "\n",
    "from IPython.display import display # For interactive figure\n",
    "\n",
    "# Install DSTAPI to get data from statistikbanken\n",
    "%pip install git+https://github.com/alemartinello/dstapi\n",
    "from dstapi import DstApi\n",
    "\n",
    "# Importen function for plotting interactive figure\n",
    "#from dataproject import plot_region\n",
    "\n",
    "\n",
    "# autoreload modules when code is run\n",
    "%load_ext autoreload\n",
    "%autoreload 2\n",
    "\n",
    "# user written modules\n",
    "import dataproject\n"
   ]
  },
  {
   "cell_type": "code",
   "execution_count": 18,
   "metadata": {},
   "outputs": [
    {
     "name": "stdout",
     "output_type": "stream",
     "text": [
      "Table FRDK123: Befolkningsfremskrivning 2023 for hele landet efter herkomst, køn, alder og tid\n",
      "Last update: 2023-06-01T08:00:00\n"
     ]
    },
    {
     "data": {
      "text/html": [
       "<div>\n",
       "<style scoped>\n",
       "    .dataframe tbody tr th:only-of-type {\n",
       "        vertical-align: middle;\n",
       "    }\n",
       "\n",
       "    .dataframe tbody tr th {\n",
       "        vertical-align: top;\n",
       "    }\n",
       "\n",
       "    .dataframe thead th {\n",
       "        text-align: right;\n",
       "    }\n",
       "</style>\n",
       "<table border=\"1\" class=\"dataframe\">\n",
       "  <thead>\n",
       "    <tr style=\"text-align: right;\">\n",
       "      <th></th>\n",
       "      <th>variable name</th>\n",
       "      <th># values</th>\n",
       "      <th>First value</th>\n",
       "      <th>First value label</th>\n",
       "      <th>Last value</th>\n",
       "      <th>Last value label</th>\n",
       "      <th>Time variable</th>\n",
       "    </tr>\n",
       "  </thead>\n",
       "  <tbody>\n",
       "    <tr>\n",
       "      <th>0</th>\n",
       "      <td>HERKOMST</td>\n",
       "      <td>5</td>\n",
       "      <td>999</td>\n",
       "      <td>Personer med dansk oprindelse</td>\n",
       "      <td>35</td>\n",
       "      <td>Efterkommere fra ikke-vestlige lande</td>\n",
       "      <td>False</td>\n",
       "    </tr>\n",
       "    <tr>\n",
       "      <th>1</th>\n",
       "      <td>KØN</td>\n",
       "      <td>2</td>\n",
       "      <td>M</td>\n",
       "      <td>Mænd</td>\n",
       "      <td>K</td>\n",
       "      <td>Kvinder</td>\n",
       "      <td>False</td>\n",
       "    </tr>\n",
       "    <tr>\n",
       "      <th>2</th>\n",
       "      <td>ALDER</td>\n",
       "      <td>106</td>\n",
       "      <td>0</td>\n",
       "      <td>0 år</td>\n",
       "      <td>105-</td>\n",
       "      <td>105 år og derover</td>\n",
       "      <td>False</td>\n",
       "    </tr>\n",
       "    <tr>\n",
       "      <th>3</th>\n",
       "      <td>Tid</td>\n",
       "      <td>48</td>\n",
       "      <td>2023</td>\n",
       "      <td>2023</td>\n",
       "      <td>2070</td>\n",
       "      <td>2070</td>\n",
       "      <td>True</td>\n",
       "    </tr>\n",
       "  </tbody>\n",
       "</table>\n",
       "</div>"
      ],
      "text/plain": [
       "  variable name  # values First value              First value label  \\\n",
       "0      HERKOMST         5         999  Personer med dansk oprindelse   \n",
       "1           KØN         2           M                           Mænd   \n",
       "2         ALDER       106           0                           0 år   \n",
       "3           Tid        48        2023                           2023   \n",
       "\n",
       "  Last value                      Last value label  Time variable  \n",
       "0         35  Efterkommere fra ikke-vestlige lande          False  \n",
       "1          K                               Kvinder          False  \n",
       "2       105-                     105 år og derover          False  \n",
       "3       2070                                  2070           True  "
      ]
     },
     "execution_count": 18,
     "metadata": {},
     "output_type": "execute_result"
    }
   ],
   "source": [
    "#import and read\n",
    "pop = DstApi('FRDK123') #Defining the data set\n",
    "params = pop._define_base_params(language='en') #Language is set to english\n",
    "pop.tablesummary(language='en') #Getting the table summary\n"
   ]
  },
  {
   "cell_type": "markdown",
   "metadata": {},
   "source": [
    "# Read and clean data"
   ]
  },
  {
   "cell_type": "code",
   "execution_count": 19,
   "metadata": {},
   "outputs": [
    {
     "data": {
      "text/html": [
       "<div>\n",
       "<style scoped>\n",
       "    .dataframe tbody tr th:only-of-type {\n",
       "        vertical-align: middle;\n",
       "    }\n",
       "\n",
       "    .dataframe tbody tr th {\n",
       "        vertical-align: top;\n",
       "    }\n",
       "\n",
       "    .dataframe thead th {\n",
       "        text-align: right;\n",
       "    }\n",
       "</style>\n",
       "<table border=\"1\" class=\"dataframe\">\n",
       "  <thead>\n",
       "    <tr style=\"text-align: right;\">\n",
       "      <th></th>\n",
       "      <th>HERKOMST</th>\n",
       "      <th>KØN</th>\n",
       "      <th>ALDER</th>\n",
       "      <th>TID</th>\n",
       "      <th>INDHOLD</th>\n",
       "    </tr>\n",
       "  </thead>\n",
       "  <tbody>\n",
       "    <tr>\n",
       "      <th>18784</th>\n",
       "      <td>Descendants from western countries</td>\n",
       "      <td>Women</td>\n",
       "      <td>62</td>\n",
       "      <td>2035</td>\n",
       "      <td>76</td>\n",
       "    </tr>\n",
       "    <tr>\n",
       "      <th>19156</th>\n",
       "      <td>Persons of danish origin</td>\n",
       "      <td>Women</td>\n",
       "      <td>35</td>\n",
       "      <td>2035</td>\n",
       "      <td>29170</td>\n",
       "    </tr>\n",
       "    <tr>\n",
       "      <th>28410</th>\n",
       "      <td>Descendants from western countries</td>\n",
       "      <td>Women</td>\n",
       "      <td>0</td>\n",
       "      <td>2051</td>\n",
       "      <td>2600</td>\n",
       "    </tr>\n",
       "    <tr>\n",
       "      <th>26791</th>\n",
       "      <td>Descendants from non-western countries</td>\n",
       "      <td>Men</td>\n",
       "      <td>96</td>\n",
       "      <td>2033</td>\n",
       "      <td>0</td>\n",
       "    </tr>\n",
       "    <tr>\n",
       "      <th>39249</th>\n",
       "      <td>Immigrants from non-western countries</td>\n",
       "      <td>Women</td>\n",
       "      <td>95</td>\n",
       "      <td>2059</td>\n",
       "      <td>587</td>\n",
       "    </tr>\n",
       "    <tr>\n",
       "      <th>34555</th>\n",
       "      <td>Descendants from non-western countries</td>\n",
       "      <td>Men</td>\n",
       "      <td>32</td>\n",
       "      <td>2034</td>\n",
       "      <td>2720</td>\n",
       "    </tr>\n",
       "    <tr>\n",
       "      <th>19289</th>\n",
       "      <td>Persons of danish origin</td>\n",
       "      <td>Men</td>\n",
       "      <td>64</td>\n",
       "      <td>2035</td>\n",
       "      <td>30713</td>\n",
       "    </tr>\n",
       "    <tr>\n",
       "      <th>33717</th>\n",
       "      <td>Persons of danish origin</td>\n",
       "      <td>Women</td>\n",
       "      <td>96</td>\n",
       "      <td>2051</td>\n",
       "      <td>4691</td>\n",
       "    </tr>\n",
       "    <tr>\n",
       "      <th>39099</th>\n",
       "      <td>Immigrants from western countries</td>\n",
       "      <td>Men</td>\n",
       "      <td>50</td>\n",
       "      <td>2059</td>\n",
       "      <td>3304</td>\n",
       "    </tr>\n",
       "    <tr>\n",
       "      <th>8710</th>\n",
       "      <td>Persons of danish origin</td>\n",
       "      <td>Men</td>\n",
       "      <td>52</td>\n",
       "      <td>2049</td>\n",
       "      <td>31054</td>\n",
       "    </tr>\n",
       "  </tbody>\n",
       "</table>\n",
       "</div>"
      ],
      "text/plain": [
       "                                     HERKOMST    KØN  ALDER   TID  INDHOLD\n",
       "18784      Descendants from western countries  Women     62  2035       76\n",
       "19156                Persons of danish origin  Women     35  2035    29170\n",
       "28410      Descendants from western countries  Women      0  2051     2600\n",
       "26791  Descendants from non-western countries    Men     96  2033        0\n",
       "39249   Immigrants from non-western countries  Women     95  2059      587\n",
       "34555  Descendants from non-western countries    Men     32  2034     2720\n",
       "19289                Persons of danish origin    Men     64  2035    30713\n",
       "33717                Persons of danish origin  Women     96  2051     4691\n",
       "39099       Immigrants from western countries    Men     50  2059     3304\n",
       "8710                 Persons of danish origin    Men     52  2049    31054"
      ]
     },
     "execution_count": 19,
     "metadata": {},
     "output_type": "execute_result"
    }
   ],
   "source": [
    "import pandas as pd\n",
    "#Defining the variables we want to use\n",
    "params = {'table': 'FRDK123',\n",
    " 'format': 'BULK',\n",
    " 'lang': 'en',\n",
    " 'variables': [{'code': 'HERKOMST', 'values': ['*']},\n",
    "  {'code': 'KØN', 'values': ['M', 'K']},\n",
    "  {'code': 'ALDER', 'values': ['>=0<=100']},\n",
    "  {'code': 'Tid', 'values': ['*']}]}\n",
    "\n",
    "#Getting the data\n",
    "datapop_api = pop.get_data(params=params)\n",
    "\n",
    "# Assuming df is your DataFrame and 'Alder' is the column with the ages\n",
    "datapop_api['ALDER'] = datapop_api['ALDER'].str.extract('(\\d+)').astype(int)\n",
    "\n",
    "datapop_api.sample(n=10)\n"
   ]
  },
  {
   "cell_type": "markdown",
   "metadata": {},
   "source": [
    "Import your data, either through an API or manually, and load it. "
   ]
  },
  {
   "cell_type": "markdown",
   "metadata": {},
   "source": [
    "## Explore each data set"
   ]
  },
  {
   "cell_type": "markdown",
   "metadata": {},
   "source": [
    "In order to be able to **explore the raw data**, you may provide **static** and **interactive plots** to show important developments "
   ]
  },
  {
   "cell_type": "code",
   "execution_count": 7,
   "metadata": {},
   "outputs": [
    {
     "name": "stderr",
     "output_type": "stream",
     "text": [
      "/var/folders/vj/yxjyqsh92md50khx532ch1qh0000gn/T/ipykernel_80422/3145673549.py:22: SettingWithCopyWarning: \n",
      "A value is trying to be set on a copy of a slice from a DataFrame.\n",
      "Try using .loc[row_indexer,col_indexer] = value instead\n",
      "\n",
      "See the caveats in the documentation: https://pandas.pydata.org/pandas-docs/stable/user_guide/indexing.html#returning-a-view-versus-a-copy\n",
      "  women_df['INDHOLD'] = women_df['INDHOLD'] * -1\n",
      "/var/folders/vj/yxjyqsh92md50khx532ch1qh0000gn/T/ipykernel_80422/3145673549.py:38: UserWarning: FixedFormatter should only be used together with FixedLocator\n",
      "  ax.set_xticklabels([int(abs(tick)) for tick in ticks])\n"
     ]
    },
    {
     "data": {
      "image/png": "[encoded data removed]",
      "text/plain": [
       "<Figure size 720x576 with 1 Axes>"
      ]
     },
     "metadata": {
      "needs_background": "light"
     },
     "output_type": "display_data"
    }
   ],
   "source": [
    "# Since the user has provided a snippet of their code, we will continue from where they left off.\n",
    "# The user has extracted the age information and converted it to integers.\n",
    "# Next, we need to filter the DataFrame for the year 2023 and create the age pyramid.\n",
    "\n",
    "# Filtering the DataFrame for the year 2023 as 'TID' is the column with the year information.\n",
    "df = datapop_api[datapop_api[\"TID\"] == 2023]\n",
    "\n",
    "# Now let's prepare the data for the pyramid chart by summing the population counts by age and gender.\n",
    "# 'HERKOMST' seems not to be relevant for the pyramid plot itself, as we are summing over all origin categories.\n",
    "\n",
    "# We'll assume 'KØN' has 'M' for Men and 'K' for Women, and 'INDHOLD' is the population count.\n",
    "# We create two separate DataFrames for men and women.\n",
    "\n",
    "datapop_df = df.groupby([\"KØN\", \"ALDER\"])[\"INDHOLD\"].sum().reset_index()\n",
    "\n",
    "\n",
    "\n",
    "\n",
    "\n",
    "# Splitting the DataFrame into one for men and one for women.\n",
    "men_df = datapop_df[datapop_df['KØN'] == 'Men']\n",
    "women_df = datapop_df[datapop_df['KØN'] == 'Women']\n",
    "\n",
    "# Since the 'women_df' population counts need to be negative for the pyramid plot, we'll multiply by -1.\n",
    "women_df['INDHOLD'] = women_df['INDHOLD'] * -1\n",
    "\n",
    "# Now, we can plot the population pyramid.\n",
    "fig, ax = plt.subplots(figsize=(10, 8))\n",
    "\n",
    "# Create the bar plots for men (positive) and women (negative) to create the pyramid effect.\n",
    "ax.barh(men_df['ALDER'], men_df['INDHOLD'], color='blue', label='Men')\n",
    "ax.barh(women_df['ALDER'], women_df['INDHOLD'], color='green', label='Women')\n",
    "\n",
    "# Add labels and title\n",
    "ax.set_xlabel('Population Count')\n",
    "ax.set_ylabel('Age')\n",
    "ax.set_title('Population Pyramid for 2023')\n",
    "\n",
    "# Positive values on the x-axis\n",
    "ticks = ax.get_xticks()\n",
    "ax.set_xticklabels([int(abs(tick)) for tick in ticks])\n",
    "\n",
    "# Adding legends\n",
    "ax.legend()\n",
    "\n",
    "# Show grid\n",
    "ax.grid(True)\n",
    "\n",
    "# Show the plot\n",
    "plt.show()"
   ]
  },
  {
   "cell_type": "markdown",
   "metadata": {},
   "source": [
    "**Interactive plot** :"
   ]
  },
  {
   "cell_type": "code",
   "execution_count": 8,
   "metadata": {},
   "outputs": [
    {
     "data": {
      "application/vnd.jupyter.widget-view+json": {
       "model_id": "e11c616c9b624a969d8e966dd6b64618",
       "version_major": 2,
       "version_minor": 0
      },
      "text/plain": [
       "interactive(children=(IntSlider(value=2023, description='Year', max=2070, min=2023), Output()), _dom_classes=(…"
      ]
     },
     "metadata": {},
     "output_type": "display_data"
    }
   ],
   "source": [
    "import ipywidgets as widgets\n",
    "import matplotlib.pyplot as plt\n",
    "from IPython.display import display\n",
    "\n",
    "# Assuming 'datapop_api' is your complete DataFrame with all years ('TID') and 'ALDER' as age.\n",
    "\n",
    "# This function will update the plot when the slider is changed.\n",
    "import numpy as np\n",
    "import matplotlib.pyplot as plt\n",
    "from matplotlib.ticker import MaxNLocator\n",
    "\n",
    "def update_plot(year):\n",
    "    # Filter the DataFrame for the selected year\n",
    "    df_year = datapop_api[datapop_api[\"TID\"] == year]\n",
    "    \n",
    "    # Group by gender and age, then sum the population count\n",
    "    age_pyramid_data = df_year.groupby([\"KØN\", \"ALDER\"])[\"INDHOLD\"].sum().unstack(\"KØN\")\n",
    "    \n",
    "    # Make women's population negative for plotting\n",
    "    age_pyramid_data['Women'] = -age_pyramid_data['Women']\n",
    "\n",
    "    # Clear the previous figure and create a new one\n",
    "    plt.clf()\n",
    "    fig, ax = plt.subplots(figsize=(10, 8))\n",
    "\n",
    "    # Plot the data\n",
    "    ax.barh(age_pyramid_data.index, age_pyramid_data['Men'], color='blue', label='Men')\n",
    "    ax.barh(age_pyramid_data.index, age_pyramid_data['Women'], color='green', label='Women')\n",
    "\n",
    "    # Set labels and title\n",
    "    ax.set_xlabel('Population Count')\n",
    "    ax.set_ylabel('Age')\n",
    "    ax.set_title(f'Population Pyramid for {year}')\n",
    "    ax.legend()\n",
    "\n",
    "\n",
    "\n",
    "    ax.set_ylim(0, age_pyramid_data.index.max())\n",
    "\n",
    "\n",
    "\n",
    "    # Change y-axis to show only labels for every 5 years.\n",
    "    # Find the max age to set as the limit for the y-axis ticks.\n",
    "    # max_age = age_pyramid_data.index.max() + (5 - age_pyramid_data.index.max() % 5)  # Round up to the nearest multiple of 5\n",
    "    ax.set_yticks(np.arange(0, 101, 5))\n",
    "    ax.yaxis.set_major_locator(MaxNLocator(integer=True))  # Ensure that only integer ticks are shown\n",
    "\n",
    "    # Set the x-axis to show positive values for both sides\n",
    "    ticks = ax.get_xticks()\n",
    "    ax.set_xticklabels([int(abs(tick)) for tick in ticks])\n",
    "\n",
    "    # Show grid\n",
    "    ax.grid(True)\n",
    "\n",
    "    # Display the plot\n",
    "    plt.show()\n",
    "\n",
    "# Assuming 'datapop_api' is your DataFrame and 'year_slider' is the IntSlider widget:\n",
    "# widgets.inter\n",
    "\n",
    "# Create a slider for the year selection\n",
    "years = datapop_api['TID'].unique()\n",
    "year_slider = widgets.IntSlider(min=min(years), max=max(years), step=1, value=min(years), description='Year')\n",
    "\n",
    "# Display the slider and attach the update function\n",
    "widgets.interactive(update_plot, year=year_slider)\n"
   ]
  },
  {
   "cell_type": "markdown",
   "metadata": {},
   "source": [
    "Explain what you see when moving elements of the interactive plot around. "
   ]
  },
  {
   "cell_type": "markdown",
   "metadata": {},
   "source": [
    "# Merge data sets"
   ]
  },
  {
   "cell_type": "markdown",
   "metadata": {},
   "source": [
    "Now you create combinations of your loaded data sets. Remember the illustration of a (inner) **merge**:"
   ]
  },
  {
   "cell_type": "code",
   "execution_count": 45,
   "metadata": {},
   "outputs": [
    {
     "name": "stderr",
     "output_type": "stream",
     "text": [
      "C:\\Users\\William Gormsen\\AppData\\Local\\Temp\\ipykernel_8296\\2200882340.py:13: FutureWarning: The default of observed=False is deprecated and will be changed to True in a future version of pandas. Pass observed=False to retain current behavior or observed=True to adopt the future default and silence this warning.\n",
      "  grouped = datapop_api.groupby(['TID', 'AgeGroup']).sum().reset_index()\n"
     ]
    },
    {
     "data": {
      "text/plain": [
       "<Figure size 1000x600 with 0 Axes>"
      ]
     },
     "metadata": {},
     "output_type": "display_data"
    },
    {
     "data": {
      "image/png": "[encoded data removed]",
      "text/plain": [
       "<Figure size 640x480 with 1 Axes>"
      ]
     },
     "metadata": {},
     "output_type": "display_data"
    }
   ],
   "source": [
    "# Define the age groups and their labels\n",
    "bins = [0, 20, 50, 65, 80, float('inf')]\n",
    "labels = ['0-19', '20-49', '50-64', '65-79', '80+']\n",
    "\n",
    "# Create a new column for the age groups\n",
    "datapop_api['AgeGroup'] = pd.cut(datapop_api['ALDER'], bins=bins, labels=labels, right=False)\n",
    "\n",
    "# Filter the dataframe for the selected years\n",
    "selected_years = [2023, 2040, 2050, 2060, 2070]\n",
    "datapop_api = datapop_api[datapop_api['TID'].isin(selected_years)]\n",
    "\n",
    "# Group by year and age group, and calculate the total amount of people\n",
    "grouped = datapop_api.groupby(['TID', 'AgeGroup']).sum().reset_index()\n",
    "\n",
    "# Pivot the dataframe so that each age group is a column\n",
    "pivot = grouped.pivot(index='TID', columns='AgeGroup', values='INDHOLD')\n",
    "\n",
    "# Create a new figure with a specific size\n",
    "plt.figure(figsize=(10, 6))\n",
    "\n",
    "# Plot the data\n",
    "ax = pivot.plot(kind='bar', stacked=True)\n",
    "\n",
    "# Format y-axis to display in millions\n",
    "ax.yaxis.set_major_formatter(mtick.FuncFormatter(lambda x, p: f'{x/1e6:.0f}'))\n",
    "\n",
    "plt.title('Total Amount of People by Age Group')\n",
    "plt.xlabel('Year')\n",
    "plt.ylabel('Total Amount of People (Millions)')\n",
    "\n",
    "# Move the legend to the right side of the figure\n",
    "plt.legend(bbox_to_anchor=(1.05, 1), loc='upper left', ncol=1)\n",
    "\n",
    "# Manually reorder legend labels\n",
    "handles, labels = ax.get_legend_handles_labels()\n",
    "order = [4, 3, 2, 1, 0]  # This will reverse the order of the legend\n",
    "plt.legend([handles[idx] for idx in order], [labels[idx] for idx in order], bbox_to_anchor=(1.05, 1), loc='upper left', ncol=1)\n",
    "\n",
    "plt.show()\n"
   ]
  },
  {
   "cell_type": "markdown",
   "metadata": {},
   "source": [
    "Here we are dropping elements from both data set X and data set Y. A left join would keep all observations in data X intact and subset only from Y. \n",
    "\n",
    "Make sure that your resulting data sets have the correct number of rows and columns. That is, be clear about which observations are thrown away. \n",
    "\n",
    "**Note:** Don't make Venn diagrams in your own data project. It is just for exposition. "
   ]
  },
  {
   "cell_type": "markdown",
   "metadata": {},
   "source": [
    "# Analysis"
   ]
  },
  {
   "cell_type": "markdown",
   "metadata": {},
   "source": [
    "To get a quick overview of the data, we show some **summary statistics** on a meaningful aggregation. "
   ]
  },
  {
   "cell_type": "markdown",
   "metadata": {},
   "source": [
    "MAKE FURTHER ANALYSIS. EXPLAIN THE CODE BRIEFLY AND SUMMARIZE THE RESULTS."
   ]
  },
  {
   "cell_type": "markdown",
   "metadata": {},
   "source": [
    "# Conclusion"
   ]
  },
  {
   "cell_type": "markdown",
   "metadata": {},
   "source": [
    "Noter fra forelæsning:\n",
    "- 2-3 figurer/tabeller\n",
    "- "
   ]
  }
 ],
 "metadata": {
  "kernelspec": {
   "display_name": "base",
   "language": "python",
   "name": "python3"
  },
  "language_info": {
   "codemirror_mode": {
    "name": "ipython",
    "version": 3
   },
   "file_extension": ".py",
   "mimetype": "text/x-python",
   "name": "python",
   "nbconvert_exporter": "python",
   "pygments_lexer": "ipython3",
   "version": "3.11.7"
  },
  "toc-autonumbering": true,
  "vscode": {
   "interpreter": {
    "hash": "47ef90cdf3004d3f859f1fb202523c65c07ba7c22eefd261b181f4744e2d0403"
   }
  }
 },
 "nbformat": 4,
 "nbformat_minor": 4
}
