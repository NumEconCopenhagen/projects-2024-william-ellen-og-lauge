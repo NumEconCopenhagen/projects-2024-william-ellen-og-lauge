{
 "cells": [
  {
   "cell_type": "markdown",
   "metadata": {},
   "source": [
    "# An AS/AD-model for a closed economy in the short run"
   ]
  },
  {
   "cell_type": "markdown",
   "metadata": {},
   "source": [
    "**This project analyzes the effects of shocks to a simple AS/AD-model for a closed economy in the short run. We use the model to analyze changes in taxes, government spending and monetary policy.**"
   ]
  },
  {
   "cell_type": "markdown",
   "metadata": {},
   "source": [
    "Imports and set magics:"
   ]
  },
  {
   "cell_type": "code",
   "execution_count": 2,
   "metadata": {},
   "outputs": [
    {
     "name": "stdout",
     "output_type": "stream",
     "text": [
      "The autoreload extension is already loaded. To reload it, use:\n",
      "  %reload_ext autoreload\n"
     ]
    }
   ],
   "source": [
    "import sympy as sm\n",
    "import numpy as np\n",
    "import matplotlib.pyplot as plt\n",
    "from ipywidgets import interactive, IntSlider, FloatSlider\n",
    "import scipy.optimize as opt\n",
    "\n",
    "plt.rcParams.update({\"axes.grid\":True,\"grid.color\":\"darkblue\",\"grid.alpha\":\"0.3\",\"grid.linestyle\":\"--\"})\n",
    "plt.rcParams.update({'font.size': 12})\n",
    "\n",
    "# autoreload modules when code is run\n",
    "%load_ext autoreload\n",
    "%autoreload 2\n",
    "\n",
    "import modelproject\n",
    "from modelproject import ASAD\n",
    "\n"
   ]
  },
  {
   "cell_type": "markdown",
   "metadata": {},
   "source": [
    "# Model description"
   ]
  },
  {
   "cell_type": "markdown",
   "metadata": {},
   "source": [
    "The model used in this project is a version of a closed economy AS/AD-model as outlined in \"Introducing Advanced Macroeconomics - Growth and Business Cycles\" by Peter Birch Sørensen & Hans Jørgen Whitta-Jacobsen.  \n",
    "\n",
    "We use the following equations to describe our model: \n",
    "\n",
    "**1: IS-curve** - Market equilibrium with government spending and taxes.\n",
    "\n",
    "$$\n",
    "y_t-\\bar{y} = \\alpha_1 (g_t-\\bar{g}) - \\alpha_2(r_t-\\bar{r})-\\alpha_{3}(\\tau_{t}-\\overline{\\tau})\n",
    "$$\n",
    "\n",
    "**2: Fischer Equation** - In ex-ante (modeled by expected inflation).\n",
    "\n",
    "$$\n",
    "r_t = i_t-\\pi^{e}_{t+1}\n",
    "$$\n",
    "\n",
    "**3: Monetary policy rule** - The Taylor-Rule with stabilization wrt. both inflation and output\n",
    "\n",
    "$$\n",
    "i_t = \\bar{r} + \\pi^{e}_{t+1} + h(\\pi_t - \\pi^*) + b(y_t- \\bar{y})\n",
    "$$\n",
    "\n",
    "**4: The SRAS curve** - This is derived from the expectations-augmented Phillips-curve. For given inflation expectations, there is a positive correlation between inflation and outputgap. \n",
    "\n",
    "$$\n",
    "\\pi_t = \\pi_t^e + \\gamma (y_t-\\bar{y}) + s_t\n",
    "$$\n",
    "\n",
    "\n",
    "**5: Inflation expectations** - This equation shows that the agents have static inflation expectations, since they expect inflation in period t to be equal to observed inflation in the previous period. \n",
    "\n",
    "$$\n",
    "\\pi_t^e = \\pi_{t-1}\n",
    "$$"
   ]
  },
  {
   "cell_type": "markdown",
   "metadata": {},
   "source": [
    "From the above equations, we can define the AD-curve and the AS-curve: \n",
    "\n",
    "\n",
    "The AD-curve combines equations 1, 2 and 3. Inserting 3 in 2:\n",
    "\n",
    "$$\n",
    "r_t = \\bar{r} + \\pi^{e}_{t+1} + h(\\pi_t - \\pi^*) + b(y_t- \\bar{y})-\\pi^{e}_{t+1}\n",
    "$$\n",
    "$$\n",
    "r_t = \\bar{r} + h(\\pi_t - \\pi^*) + b(y_t- \\bar{y})\n",
    "$$\n",
    "Inserting in eq. 1:\n",
    "$$\n",
    "y_t-\\bar{y} = \\alpha_1 (g_t-\\bar{g}) - \\alpha_2(\\bar{r} + h(\\pi_t - \\pi^*) + b(y_t- \\bar{y})-\\bar{r})-\\alpha_{3}(\\tau_{t}-\\overline{\\tau})\n",
    "$$\n",
    "$$\n",
    "y_t-\\bar{y} = \\alpha_1 (g_t-\\bar{g}) - \\alpha_2(h(\\pi_t - \\pi^*) + b(y_t- \\bar{y}))-\\alpha_{3}(\\tau_{t}-\\overline{\\tau})\n",
    "$$\n",
    "Isolating $y_t-\\bar{y}$:\n",
    "$$\n",
    "y_t-\\bar{y} = z-\\alpha(\\pi_t - \\pi^*)\n",
    "$$\n",
    "where\n",
    "$$\n",
    "z = \\frac{\\alpha_1}{1+\\alpha_2b}(g_t-\\bar{g})-\\frac{\\alpha_3}{1+\\alpha_2b}(\\tau_t-\\bar{\\tau}), \\alpha = \\frac{\\alpha_2 h}{1+\\alpha_2b}\n",
    "$$\n",
    "\n",
    "The AS-curve is found by inserting equation 5 in 4:\n",
    "\n",
    "$$\n",
    "\\pi_t = \\pi_{t-1} + \\gamma(y_t-\\bar{y}) + s_t $$"
   ]
  },
  {
   "cell_type": "markdown",
   "metadata": {},
   "source": [
    "## Analytical solution"
   ]
  },
  {
   "cell_type": "markdown",
   "metadata": {},
   "source": [
    "We define our model in Python:"
   ]
  },
  {
   "cell_type": "code",
   "execution_count": 3,
   "metadata": {},
   "outputs": [
    {
     "data": {
      "application/vnd.jupyter.widget-view+json": {
       "model_id": "bb4003f8a4f541b7bd56b6c5a1f850a4",
       "version_major": 2,
       "version_minor": 0
      },
      "text/plain": [
       "interactive(children=(IntSlider(value=20, description='Total Periods (T)', min=10), FloatSlider(value=0.01, de…"
      ]
     },
     "metadata": {},
     "output_type": "display_data"
    }
   ],
   "source": [
    "def interactive_gap(T, z, s, z_duration, s_duration):\n",
    "    model = ASAD(T=T, z=z, s=s, z_duration=z_duration, s_duration=s_duration)\n",
    "    model.solve_model()\n",
    "    model.plot_results()\n",
    "\n",
    "# Create sliders for interactive input\n",
    "T_slider = IntSlider(min=10, max=100, step=1, value=20, description='Total Periods (T)')\n",
    "z_slider = FloatSlider(min=-0.2, max=0.2, step=0.01, value=0.01, description='Demand Shock (z)')\n",
    "s_slider = FloatSlider(min=-0.2, max=0.2, step=0.01, value=0, description='Supply Shock (s)')\n",
    "z_duration_slider = IntSlider(min=0, max=50, step=1, value=1, description='Duration of z')\n",
    "s_duration_slider = IntSlider(min=0, max=50, step=1, value=0, description='Duration of s')\n",
    "\n",
    "# Display the interactive plot\n",
    "interactive_plot = interactive(interactive_gap, T=T_slider, z=z_slider, s=s_slider, z_duration=z_duration_slider, s_duration=s_duration_slider)\n",
    "display(interactive_plot)"
   ]
  },
  {
   "cell_type": "code",
   "execution_count": 4,
   "metadata": {},
   "outputs": [
    {
     "data": {
      "application/vnd.jupyter.widget-view+json": {
       "model_id": "bcd9f0df4496424aa43cf8015f45b682",
       "version_major": 2,
       "version_minor": 0
      },
      "text/plain": [
       "interactive(children=(IntSlider(value=20, description='Total Periods', max=50, min=1), FloatSlider(value=0.01,…"
      ]
     },
     "metadata": {},
     "output_type": "display_data"
    }
   ],
   "source": [
    "def interactive_model(T, z, s, gamma, z_duration, s_duration):\n",
    "    model = ASAD(T=T, gamma=gamma, z=z, s=s, z_duration=z_duration, s_duration=s_duration)\n",
    "    model.solve_model()\n",
    "    model.plot_ad_as()\n",
    "\n",
    "# Create sliders for interactive input\n",
    "T_slider = IntSlider(min=1, max=50, step=1, value=20, description='Total Periods')\n",
    "z_slider = FloatSlider(min=-0.1, max=0.1, step=0.01, value=0.01, description='Demand Shock (z)')\n",
    "s_slider = FloatSlider(min=-0.1, max=0.1, step=0.01, value=0, description='Supply Shock (s)')\n",
    "gamma_slider = FloatSlider(min=0.1, max=2.0, step=0.1, value=1.0, description='Gamma')\n",
    "z_duration_slider = IntSlider(min=0, max=50, step=1, value=1, description='Duration of z')\n",
    "s_duration_slider = IntSlider(min=0, max=50, step=1, value=0, description='Duration of s')\n",
    "\n",
    "# Display interactive widgets\n",
    "interactive_plot = interactive(interactive_model, T=T_slider, z=z_slider, s=s_slider, gamma=gamma_slider, z_duration=z_duration_slider, s_duration=s_duration_slider)\n",
    "display(interactive_plot)"
   ]
  },
  {
   "cell_type": "code",
   "execution_count": 5,
   "metadata": {},
   "outputs": [
    {
     "data": {
      "application/vnd.jupyter.widget-view+json": {
       "model_id": "ca953d1b4cdb4d14a9f4e55117aa3a59",
       "version_major": 2,
       "version_minor": 0
      },
      "text/plain": [
       "interactive(children=(IntSlider(value=20, description='Total Periods (T)', max=50, min=1), FloatSlider(value=0…"
      ]
     },
     "metadata": {},
     "output_type": "display_data"
    }
   ],
   "source": [
    "def interactive_perm(T, z, s, gamma):\n",
    "    z_duration = s_duration = T  # Set both durations equal to T for permanent shocks\n",
    "    model = ASAD(T=T, gamma=gamma, z=z, s=s, z_duration=z_duration, s_duration=s_duration)\n",
    "    model.solve_model()\n",
    "    model.plot_ad_as()\n",
    "\n",
    "# Create sliders for interactive input\n",
    "T_slider = IntSlider(min=1, max=50, step=1, value=20, description='Total Periods (T)')\n",
    "z_slider = FloatSlider(min=-0.1, max=0.1, step=0.001, value=0.01, description='Demand Shock (z)', readout_format='.3f')\n",
    "s_slider = FloatSlider(min=-0.01, max=0.01, step=0.001, value=0, description='Supply Shock (s)', readout_format='.3f')\n",
    "gamma_slider = FloatSlider(min=0.1, max=2.0, step=0.1, value=1.0, description='Gamma')\n",
    "\n",
    "# Display the interactive plot\n",
    "interactive_plot = interactive(interactive_perm, T=T_slider, z=z_slider, s=s_slider, gamma=gamma_slider)\n",
    "display(interactive_plot)\n",
    "\n"
   ]
  },
  {
   "cell_type": "code",
   "execution_count": 9,
   "metadata": {},
   "outputs": [
    {
     "data": {
      "application/vnd.jupyter.widget-view+json": {
       "model_id": "c5d5071998894ddcaa41e68986192f30",
       "version_major": 2,
       "version_minor": 0
      },
      "text/plain": [
       "interactive(children=(IntSlider(value=20, description='Total Periods (T)', min=10), FloatSlider(value=0.01, de…"
      ]
     },
     "metadata": {},
     "output_type": "display_data"
    }
   ],
   "source": [
    "def interactive_SL(T, z, s, z_duration, s_duration):\n",
    "    model = ASAD(T=T, z=z, s=s, z_duration=z_duration, s_duration=s_duration)\n",
    "    model.solve_model()\n",
    "    #model.plot_results()\n",
    "    model.plot_social_loss()\n",
    "\n",
    "# Create sliders for interactive input\n",
    "T_slider = IntSlider(min=10, max=100, step=1, value=20, description='Total Periods (T)')\n",
    "z_slider = FloatSlider(min=-0.2, max=0.2, step=0.01, value=0.01, description='Demand Shock (z)')\n",
    "s_slider = FloatSlider(min=-0.2, max=0.2, step=0.01, value=0, description='Supply Shock (s)')\n",
    "z_duration_slider = IntSlider(min=0, max=50, step=1, value=1, description='Duration of z')\n",
    "s_duration_slider = IntSlider(min=0, max=50, step=1, value=0, description='Duration of s')\n",
    "\n",
    "# Display the interactive plot\n",
    "interactive_plot = interactive(interactive_SL, T=T_slider, z=z_slider, s=s_slider, z_duration=z_duration_slider, s_duration=s_duration_slider)\n",
    "display(interactive_plot)"
   ]
  },
  {
   "cell_type": "markdown",
   "metadata": {},
   "source": [
    "We calculate the Steady State Value:"
   ]
  },
  {
   "cell_type": "code",
   "execution_count": 6,
   "metadata": {},
   "outputs": [
    {
     "ename": "NameError",
     "evalue": "name 'model' is not defined",
     "output_type": "error",
     "traceback": [
      "\u001b[0;31m---------------------------------------------------------------------------\u001b[0m",
      "\u001b[0;31mNameError\u001b[0m                                 Traceback (most recent call last)",
      "Input \u001b[0;32mIn [6]\u001b[0m, in \u001b[0;36m<cell line: 16>\u001b[0;34m()\u001b[0m\n\u001b[1;32m     12\u001b[0m tau_bar \u001b[38;5;241m=\u001b[39m \u001b[38;5;241m0.5\u001b[39m\n\u001b[1;32m     15\u001b[0m \u001b[38;5;66;03m#Calculating steady state value assuming no supply shocks\u001b[39;00m\n\u001b[0;32m---> 16\u001b[0m steady_state \u001b[38;5;241m=\u001b[39m \u001b[43mmodel\u001b[49m\u001b[38;5;241m.\u001b[39mss_func(pi_star, g, b, alpha_1, alpha_2, alpha_3, h, \u001b[38;5;241m0\u001b[39m, y_bar, pi_star, gamma, tau, tau_bar)\n\u001b[1;32m     18\u001b[0m \u001b[38;5;66;03m#Printing the result\u001b[39;00m\n\u001b[1;32m     19\u001b[0m \u001b[38;5;28mprint\u001b[39m(\u001b[38;5;124m\"\u001b[39m\u001b[38;5;124mThe steady state value is:\u001b[39m\u001b[38;5;124m\"\u001b[39m, steady_state)\n",
      "\u001b[0;31mNameError\u001b[0m: name 'model' is not defined"
     ]
    }
   ],
   "source": [
    "\n",
    "y_bar = 100\n",
    "pi_star = 2\n",
    "alpha_1 = 1\n",
    "alpha_2 = 1\n",
    "alpha_3 = 1\n",
    "b = 1\n",
    "g = 1\n",
    "g_bar = 1\n",
    "h = 1\n",
    "gamma = 0.5\n",
    "tau = 0.5\n",
    "tau_bar = 0.5\n",
    "\n",
    "\n",
    "#Calculating steady state value assuming no supply shocks\n",
    "steady_state = model.ss_func(pi_star, g, b, alpha_1, alpha_2, alpha_3, h, 0, y_bar, pi_star, gamma, tau, tau_bar)\n",
    "\n",
    "#Printing the result\n",
    "print(\"The steady state value is:\", steady_state)"
   ]
  },
  {
   "cell_type": "markdown",
   "metadata": {},
   "source": [
    "## Numerical solution"
   ]
  },
  {
   "cell_type": "markdown",
   "metadata": {},
   "source": [
    "In this section, we look at the social loss of shocks to inflation and output. Social loss is minimized when the following function is minimized:"
   ]
  },
  {
   "cell_type": "markdown",
   "metadata": {},
   "source": [
    "**Minimizing social loss function:**\n",
    "\n",
    "$$ L_t = (\\pi_t - \\pi^*)^2 + \\alpha (y_t - \\bar{y})^2 $$\n"
   ]
  },
  {
   "cell_type": "markdown",
   "metadata": {},
   "source": [
    "Next, we find the optimal level of g and $\\alpha_1$ that minimizes social loss:"
   ]
  },
  {
   "cell_type": "code",
   "execution_count": null,
   "metadata": {},
   "outputs": [],
   "source": [
    "pi = 0.02\n",
    "b = 0.5\n",
    "\n",
    "alpha2 = 1\n",
    "alpha_3 = 1\n",
    "h = 0.5\n",
    "s = 0\n",
    "y_bar = 100 \n",
    "pi_star = 0.02\n",
    "gamma = 0.5\n",
    "\n",
    "# Defining the social loss function with fixed parameters\n",
    "def social_loss(args):\n",
    "    g, alpha_1 = args\n",
    "    y = model.ss_func(pi_star, g, b, alpha_1, alpha_2, alpha_3, h, 0, y_bar, pi_star, gamma, tau, tau_bar)\n",
    "    return (y_bar - y) ** 2 + (pi_star - pi) ** 2\n",
    "\n",
    "# Initial values for the varying parameters\n",
    "initial_g = 0.03\n",
    "initial_alpha_1 = 1.5\n",
    "\n",
    "# Optimizing the social loss function with respect to g and alpha_1 using the trust-constr method\n",
    "optimal_par_gh = opt.minimize(social_loss, [initial_g, initial_alpha_1], method='trust-constr')\n",
    "\n",
    "print(\"The optimal parameter values that minimize the social loss are:\")\n",
    "print(\"g:\", optimal_par_gh.x[0])\n",
    "print(\"alpha_1:\", optimal_par_gh.x[1])"
   ]
  },
  {
   "cell_type": "markdown",
   "metadata": {},
   "source": [
    "We now evaluate these parameter values to see whether they minimize the social loss. Afterwards, we calculate the optimal social loss and the minimal social loss. "
   ]
  },
  {
   "cell_type": "code",
   "execution_count": null,
   "metadata": {},
   "outputs": [],
   "source": [
    "#Evaluating the social loss at the optimal parameter values\n",
    "optimal_g = optimal_par_gh.x[0]\n",
    "optimal_alpha_1 = optimal_par_gh.x[1]\n",
    "optimal_social_loss = social_loss([optimal_g, optimal_alpha_1])\n",
    "\n",
    "#Generating a range of parameter combinations\n",
    "g_values = np.linspace(0, 0.1, 100)   #Generating 100 equally spaced values between 0 and 0.1 for parameter g\n",
    "alpha_1_values = np.linspace(0, 3, 100)   #Generating 100 equally spaced values between 0 and 3 for parameter alpha_1\n",
    "social_loss_values = np.zeros((100, 100))   #Creating a 100x100 array to store social loss values\n",
    "\n",
    "#Calculating social loss for each parameter combination\n",
    "for i, g in enumerate(g_values):\n",
    "    for j, alpha_1 in enumerate(alpha_1_values):\n",
    "        social_loss_values[i, j] = social_loss([g, alpha_1])   #Calculating social loss for each parameter combination\n",
    "\n",
    "#Finding the minimum social loss and its corresponding parameter values\n",
    "min_loss = np.min(social_loss_values)   #Finding the minimum social loss value from the array\n",
    "min_loss_idx = np.unravel_index(np.argmin(social_loss_values), social_loss_values.shape)   #Finding the indices of the minimum loss value\n",
    "min_loss_g = g_values[min_loss_idx[0]]   #Extracting the corresponding value of g for the minimum loss\n",
    "min_loss_alpha_1 = alpha_1_values[min_loss_idx[1]]   #Extracting the corresponding value of alpha_1 for the minimum loss\n",
    "\n",
    "#Compare the optimal social loss with the minimum social loss\n",
    "if np.isclose(optimal_social_loss, min_loss):\n",
    "    print(\"The optimal parameter values do indeed minimize the social loss function.\")   #Text indicating that the optimal parameter values minimize the social loss function\n",
    "else:\n",
    "    print(\"The optimal parameter values may not minimize the social loss function.\")   #Text indicating that they may not minimize the social loss function\n",
    "\n",
    "#Printing the optimal social loss and the minimum social loss\n",
    "print(\"Optimal Social Loss:\", optimal_social_loss)   #Print the value of the optimal social loss\n",
    "print(\"Minimum Social Loss:\", min_loss)   #Print the value of the minimum social loss"
   ]
  },
  {
   "cell_type": "markdown",
   "metadata": {},
   "source": [
    "Next, we check the convergence of social loss:"
   ]
  },
  {
   "cell_type": "code",
   "execution_count": null,
   "metadata": {},
   "outputs": [],
   "source": [
    "#Defining an empty list to store the social loss values across iterations\n",
    "social_loss_history = []\n",
    "\n",
    "#Optimizing with convergence monitoring\n",
    "def optimization_callback(xk, _):\n",
    "\n",
    "    #social_loss_val is calculated at each iteration and appendeds it to the social_loss_history list\n",
    "    social_loss_val = social_loss(xk)\n",
    "    social_loss_history.append(social_loss_val)\n",
    "    print(\"Current social loss:\", social_loss_val)\n",
    "\n",
    "#Optimization using Trust Region Constraint method\n",
    "#optimal_par_gh minimizes the social_loss function with respect to the parameters [initial_g, initial_alpha_1] \n",
    "optimal_par_gh = opt.minimize(social_loss, [initial_g, initial_alpha_1], method='trust-constr', callback=optimization_callback)\n",
    "\n",
    "#Checking if the social loss has converged by comparing the last two values in social_loss_history\n",
    "if len(social_loss_history) > 1 and np.isclose(social_loss_history[-1], social_loss_history[-2]):\n",
    "    print(\"The optimization has converged.\")\n",
    "else:\n",
    "    print(\"The optimization may not have converged.\")\n",
    "\n",
    "#Plotting the convergence of the social loss function\n",
    "plt.plot(range(len(social_loss_history)), social_loss_history)\n",
    "plt.xlabel(\"Iteration\")\n",
    "plt.ylabel(\"Social Loss\")\n",
    "plt.title(\"Convergence of Social Loss\")\n",
    "plt.show()"
   ]
  },
  {
   "cell_type": "markdown",
   "metadata": {},
   "source": [
    "We now check how steady state is affected by monetary policy interventions:"
   ]
  },
  {
   "cell_type": "code",
   "execution_count": null,
   "metadata": {},
   "outputs": [],
   "source": [
    "# Create an instance of monetary_policy_intervention class\n",
    "\n",
    "\n",
    "# Set the desired interest rate for the policy intervention (decrease in interest rate)\n",
    "interest_rate = -0.2\n",
    "\n",
    "# Analyze the policy intervention\n",
    "steady_state_before, steady_state_after = model.analyze_policy_intervention(interest_rate)\n",
    "\n",
    "# Compare the steady state values\n",
    "print(\"Steady state value before policy intervention:\", steady_state_before)\n",
    "print(\"Steady state value after policy intervention:\", steady_state_after)"
   ]
  },
  {
   "cell_type": "markdown",
   "metadata": {},
   "source": [
    "# Further analysis"
   ]
  },
  {
   "cell_type": "markdown",
   "metadata": {},
   "source": [
    "**Supply shock - Change to s:**\n",
    "We now examine how supply shocks affect the model in an interactive plot of all the parameters:"
   ]
  },
  {
   "cell_type": "code",
   "execution_count": null,
   "metadata": {},
   "outputs": [],
   "source": [
    "# Interactive plot with FloatSlider\n",
    "interact(plot_supply_shock, s=FloatSlider(min=-2, max=2, step=0.1, value=0), tau=FloatSlider(min=0, max=1, step=0.1, value=0.5))"
   ]
  },
  {
   "cell_type": "markdown",
   "metadata": {},
   "source": [
    "A positive demand shock (i.e., a negative value of s) moves the AS-curve downwards to the right and represents an unexpected increase in supply. \n",
    "\n",
    "If a temporary positive supply shock occurs, pushing the AS-curve downward by the size of the shock, a new short-term equilibrium is achieved. It's observed that inflation decreases, but not entirely due to the shock, as the central bank responds to the lower inflation by easing monetary policy (lowering interest rates), thereby increasing output."
   ]
  },
  {
   "cell_type": "markdown",
   "metadata": {},
   "source": [
    "**Demand shock - change to z:**\n",
    "We now examine how demand shocks affect the model in an interactive plot of all the parameters. The parameter z is given by:\n",
    "$$\n",
    "z = \\frac{\\alpha_1}{1+\\alpha_2b}(g_t-\\bar{g})-\\frac{\\alpha_3}{1+\\alpha_2b}(\\tau_t-\\bar{\\tau}), \\alpha = \\frac{\\alpha_2 h}{1+\\alpha_2b}\n",
    "$$"
   ]
  },
  {
   "cell_type": "code",
   "execution_count": null,
   "metadata": {},
   "outputs": [],
   "source": [
    "interact(plot_demand_shock, s=FloatSlider(min=-2, max=2, step=0.1, value=0), tau=FloatSlider(min=0, max=1, step=0.1, value=0.5))"
   ]
  },
  {
   "cell_type": "markdown",
   "metadata": {},
   "source": [
    "Demand shocks, z, are caused by changes in taxation, government spending, policy-parameters h and b, and parameter values of the behavioral alphas.\n",
    "\n",
    "Let's take an increase in government spending h, causing a positive demand shock.\n",
    "\n",
    "Due to increased demand, the new short-term equilibrium surpasses the long-term equilibrium, resulting in higher output and inflation. This uptick is driven by rising production and employment, which lower the marginal product of labor and increase marginal costs, thereby exerting upward pressure on prices and inflation.\n",
    "\n",
    "Additionally, domestic inflation doesn't fully reflect the shock, as the central bank responds by tightening monetary policy, raising the policy interest rate by more than 1-to-1 of inflation (according to the Taylor principle). This raises the real interest rate, dampening aggregate demand. (Implicitly affecting the slope of the AD curve)."
   ]
  },
  {
   "cell_type": "markdown",
   "metadata": {},
   "source": [
    "# Conclusion"
   ]
  },
  {
   "cell_type": "markdown",
   "metadata": {},
   "source": [
    "In conclusion, this project has examined the impact of shocks on a basic AS/AD model within a closed economy in the short term. Through our analysis, we investigated the repercussions of variations in taxes, government expenditure, and monetary policies."
   ]
  }
 ],
 "metadata": {
  "kernelspec": {
   "display_name": "base",
   "language": "python",
   "name": "python3"
  },
  "language_info": {
   "codemirror_mode": {
    "name": "ipython",
    "version": 3
   },
   "file_extension": ".py",
   "mimetype": "text/x-python",
   "name": "python",
   "nbconvert_exporter": "python",
   "pygments_lexer": "ipython3",
   "version": "3.9.12"
  },
  "toc-autonumbering": true,
  "vscode": {
   "interpreter": {
    "hash": "47ef90cdf3004d3f859f1fb202523c65c07ba7c22eefd261b181f4744e2d0403"
   }
  }
 },
 "nbformat": 4,
 "nbformat_minor": 4
}
