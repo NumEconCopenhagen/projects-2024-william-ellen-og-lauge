{
 "cells": [
  {
   "cell_type": "markdown",
   "metadata": {},
   "source": [
    "# An AS/AD-model for a closed economy in the short run"
   ]
  },
  {
   "cell_type": "markdown",
   "metadata": {},
   "source": [
    "**This project analyzes the effects of shocks to a simple AS/AD-model for a closed economy in the short run. We use the model to analyze supply- and demand shocks as well as minimizing a social loss function.**"
   ]
  },
  {
   "cell_type": "markdown",
   "metadata": {},
   "source": [
    "Imports and set magics:"
   ]
  },
  {
   "cell_type": "code",
   "execution_count": 34,
   "metadata": {},
   "outputs": [
    {
     "name": "stdout",
     "output_type": "stream",
     "text": [
      "The autoreload extension is already loaded. To reload it, use:\n",
      "  %reload_ext autoreload\n"
     ]
    },
    {
     "name": "stderr",
     "output_type": "stream",
     "text": [
      "[autoreload of modelproject failed: Traceback (most recent call last):\n",
      "  File \"/Users/laugekoch-klarskov/opt/anaconda3/lib/python3.9/site-packages/IPython/extensions/autoreload.py\", line 257, in check\n",
      "    superreload(m, reload, self.old_objects)\n",
      "  File \"/Users/laugekoch-klarskov/opt/anaconda3/lib/python3.9/site-packages/IPython/extensions/autoreload.py\", line 455, in superreload\n",
      "    module = reload(module)\n",
      "  File \"/Users/laugekoch-klarskov/opt/anaconda3/lib/python3.9/importlib/__init__.py\", line 169, in reload\n",
      "    _bootstrap._exec(spec, module)\n",
      "  File \"<frozen importlib._bootstrap>\", line 613, in _exec\n",
      "  File \"<frozen importlib._bootstrap_external>\", line 850, in exec_module\n",
      "  File \"<frozen importlib._bootstrap>\", line 228, in _call_with_frames_removed\n",
      "  File \"/Users/laugekoch-klarskov/Desktop/uni/KA - 1. semester/projects-2024-william-ellen-og-lauge/modelproject/modelproject.py\", line 142, in <module>\n",
      "    model.plot_social_loss()\n",
      "NameError: name 'model' is not defined\n",
      "]\n"
     ]
    }
   ],
   "source": [
    "import sympy as sm\n",
    "import numpy as np\n",
    "import matplotlib.pyplot as plt\n",
    "from ipywidgets import interactive, IntSlider, FloatSlider\n",
    "import scipy.optimize as opt\n",
    "\n",
    "plt.rcParams.update({\"axes.grid\":True,\"grid.color\":\"darkblue\",\"grid.alpha\":\"0.3\",\"grid.linestyle\":\"--\"})\n",
    "plt.rcParams.update({'font.size': 12})\n",
    "\n",
    "# autoreload modules when code is run\n",
    "%load_ext autoreload\n",
    "%autoreload 2\n",
    "\n",
    "import modelproject\n",
    "from modelproject import ASAD\n",
    "\n"
   ]
  },
  {
   "cell_type": "markdown",
   "metadata": {},
   "source": [
    "# Model description"
   ]
  },
  {
   "cell_type": "markdown",
   "metadata": {},
   "source": [
    "The model used in this project is a version of a closed economy AS/AD-model as outlined in \"Introducing Advanced Macroeconomics - Growth and Business Cycles\" by Peter Birch Sørensen & Hans Jørgen Whitta-Jacobsen.  \n",
    "\n",
    "We use the following equations to describe our model: \n",
    "\n",
    "**1: IS-curve** - Market equilibrium with government spending and taxes.\n",
    "\n",
    "$$\n",
    "y_t-\\bar{y} = \\alpha_1 (g_t-\\bar{g}) - \\alpha_2(r_t-\\bar{r})-\\alpha_{3}(\\tau_{t}-\\overline{\\tau})\n",
    "$$\n",
    "\n",
    "**2: Fischer Equation** - In ex-ante (modeled by expected inflation).\n",
    "\n",
    "$$\n",
    "r_t = i_t-\\pi^{e}_{t+1}\n",
    "$$\n",
    "\n",
    "**3: Monetary policy rule** - The Taylor-Rule with stabilization wrt. both inflation and output\n",
    "\n",
    "$$\n",
    "i_t = \\bar{r} + \\pi^{e}_{t+1} + h(\\pi_t - \\pi^*) + b(y_t- \\bar{y})\n",
    "$$\n",
    "\n",
    "**4: The SRAS curve** - This is derived from the expectations-augmented Phillips-curve. For given inflation expectations, there is a positive correlation between inflation and outputgap. \n",
    "\n",
    "$$\n",
    "\\pi_t = \\pi_t^e + \\gamma (y_t-\\bar{y}) + s_t\n",
    "$$\n",
    "\n",
    "\n",
    "**5: Inflation expectations** - This equation shows that the agents have static inflation expectations, since they expect inflation in period t to be equal to observed inflation in the previous period. \n",
    "\n",
    "$$\n",
    "\\pi_t^e = \\pi_{t-1}\n",
    "$$"
   ]
  },
  {
   "cell_type": "markdown",
   "metadata": {},
   "source": [
    "From the above equations, we can define the AD-curve and the AS-curve: \n",
    "\n",
    "\n",
    "The AD-curve combines equations 1, 2 and 3. Inserting 3 in 2:\n",
    "\n",
    "$$\n",
    "r_t = \\bar{r} + \\pi^{e}_{t+1} + h(\\pi_t - \\pi^*) + b(y_t- \\bar{y})-\\pi^{e}_{t+1}\n",
    "$$\n",
    "$$\n",
    "r_t = \\bar{r} + h(\\pi_t - \\pi^*) + b(y_t- \\bar{y})\n",
    "$$\n",
    "Inserting in eq. 1:\n",
    "$$\n",
    "y_t-\\bar{y} = \\alpha_1 (g_t-\\bar{g}) - \\alpha_2(\\bar{r} + h(\\pi_t - \\pi^*) + b(y_t- \\bar{y})-\\bar{r})-\\alpha_{3}(\\tau_{t}-\\overline{\\tau})\n",
    "$$\n",
    "$$\n",
    "y_t-\\bar{y} = \\alpha_1 (g_t-\\bar{g}) - \\alpha_2(h(\\pi_t - \\pi^*) + b(y_t- \\bar{y}))-\\alpha_{3}(\\tau_{t}-\\overline{\\tau})\n",
    "$$\n",
    "Isolating $y_t-\\bar{y}$:\n",
    "$$\n",
    "y_t-\\bar{y} = z-\\alpha(\\pi_t - \\pi^*)\n",
    "$$\n",
    "where\n",
    "$$\n",
    "z = \\frac{\\alpha_1}{1+\\alpha_2b}(g_t-\\bar{g})-\\frac{\\alpha_3}{1+\\alpha_2b}(\\tau_t-\\bar{\\tau}), \\alpha = \\frac{\\alpha_2 h}{1+\\alpha_2b}\n",
    "$$\n",
    "\n",
    "The AS-curve is found by inserting equation 5 in 4:\n",
    "\n",
    "$$\n",
    "\\pi_t = \\pi_{t-1} + \\gamma(y_t-\\bar{y}) + s_t $$"
   ]
  },
  {
   "cell_type": "markdown",
   "metadata": {},
   "source": [
    "## Analytical solution"
   ]
  },
  {
   "cell_type": "markdown",
   "metadata": {},
   "source": [
    "We firstly define our model in python using a class in our py-file. We use the model to make plots with interactive sliders for the demand shock, z, and the supply shock, s. \n",
    "\n"
   ]
  },
  {
   "cell_type": "code",
   "execution_count": 35,
   "metadata": {},
   "outputs": [
    {
     "data": {
      "application/vnd.jupyter.widget-view+json": {
       "model_id": "17caf234ffca45d0814eba45cfb5a32d",
       "version_major": 2,
       "version_minor": 0
      },
      "text/plain": [
       "interactive(children=(IntSlider(value=20, description='Total Periods (T)', min=10), FloatSlider(value=0.01, de…"
      ]
     },
     "metadata": {},
     "output_type": "display_data"
    }
   ],
   "source": [
    "def interactive_gap(T, z, s, z_duration, s_duration):\n",
    "    model = ASAD(T=T, z=z, s=s, z_duration=z_duration, s_duration=s_duration)\n",
    "    model.solve_model()\n",
    "    model.plot_results()\n",
    "\n",
    "# Create sliders for interactive input\n",
    "T_slider = IntSlider(min=10, max=100, step=1, value=20, description='Total Periods (T)')\n",
    "z_slider = FloatSlider(min=-0.2, max=0.2, step=0.01, value=0.01, description='Demand Shock (z)')\n",
    "s_slider = FloatSlider(min=-0.2, max=0.2, step=0.01, value=0, description='Supply Shock (s)')\n",
    "z_duration_slider = IntSlider(min=0, max=50, step=1, value=1, description='Duration of z')\n",
    "s_duration_slider = IntSlider(min=0, max=50, step=1, value=0, description='Duration of s')\n",
    "\n",
    "# Display the interactive plot\n",
    "interactive_plot = interactive(interactive_gap, T=T_slider, z=z_slider, s=s_slider, z_duration=z_duration_slider, s_duration=s_duration_slider)\n",
    "display(interactive_plot)"
   ]
  },
  {
   "cell_type": "markdown",
   "metadata": {},
   "source": [
    "**Temporary demand shock:**\n",
    "In Figure 1, the initial values show a demand shock, z, of value 0.01, with a duration of 1 period (and no supply shock). This shock could arise from increased government spending, reduced taxes, or adjustments in monetary policy parameters such as the sensitivity of nominal interest rates to output gap changes. Initially, both the output gap and inflation rise in response to this positive shock. In the subsequent period, although the demand shock dissipates, static inflation expectations persist among economic agents, leading them to anticipate continued higher inflation. However, actual inflation turns out to be lower than expected, resulting in a negative output gap. As agents gradually revise their expectations to match observed inflation, inflation converges back to its original level post-shock.\n",
    "\n",
    "**Temporary supply shock:**\n",
    "If we instead change the sliders to a negative value of $s=-0.01$ and a duration of s of 1 (and no demand shock), this corresponds to a positive supply shock (e.g., more production at lower costs). We find that the output gap increases and after the first period converges back to zero, while the inflation gap becomes negative and gradually converges back to zero. We will elaborate on the effects in the AS-AD-plot below. "
   ]
  },
  {
   "cell_type": "code",
   "execution_count": 36,
   "metadata": {},
   "outputs": [
    {
     "data": {
      "application/vnd.jupyter.widget-view+json": {
       "model_id": "2709af4a71334266be2761b956fd5abf",
       "version_major": 2,
       "version_minor": 0
      },
      "text/plain": [
       "interactive(children=(IntSlider(value=20, description='Total Periods', max=50, min=1), FloatSlider(value=0.01,…"
      ]
     },
     "metadata": {},
     "output_type": "display_data"
    }
   ],
   "source": [
    "def interactive_model(T, z, s, gamma, z_duration, s_duration):\n",
    "    model = ASAD(T=T, gamma=gamma, z=z, s=s, z_duration=z_duration, s_duration=s_duration)\n",
    "    model.solve_model()\n",
    "    model.plot_ad_as()\n",
    "\n",
    "# Create sliders for interactive input\n",
    "T_slider = IntSlider(min=1, max=50, step=1, value=20, description='Total Periods')\n",
    "z_slider = FloatSlider(min=-0.1, max=0.1, step=0.01, value=0.01, description='Demand Shock (z)')\n",
    "s_slider = FloatSlider(min=-0.1, max=0.1, step=0.01, value=0, description='Supply Shock (s)')\n",
    "gamma_slider = FloatSlider(min=0.1, max=2.0, step=0.1, value=1.0, description='Gamma')\n",
    "z_duration_slider = IntSlider(min=0, max=50, step=1, value=1, description='Duration of z')\n",
    "s_duration_slider = IntSlider(min=0, max=50, step=1, value=0, description='Duration of s')\n",
    "\n",
    "# Display interactive widgets\n",
    "interactive_plot = interactive(interactive_model, T=T_slider, z=z_slider, s=s_slider, gamma=gamma_slider, z_duration=z_duration_slider, s_duration=s_duration_slider)\n",
    "display(interactive_plot)"
   ]
  },
  {
   "cell_type": "markdown",
   "metadata": {},
   "source": [
    "Figure 2 shows the AS-AD-model and includes sliders for the shocks, as in Figure 1. \n",
    "\n",
    "**Temporary demand shock:**\n",
    "The initial values show a demand shock, z, of value 0.01, with a duration of 1 period (and no supply shock). We see that in period 1, the demand shock raises output and inflation above long-term levels (economic boom). Increased demand boosts production and employment, leading to higher costs and inflation. The central bank responds with a tightening policy more than one-for-one with inflation, raising real interest rates and dampening demand. In period 2, the AD-curve shifts back to the initial AD-curve, as the demand shock fades. Higher inflation expectations from period 1 shift AS left/up in period 2, anticipating inflation. This drives wage demands, accelerates prices, and sustains elevated inflation. The central bank continues tightening to stabilize inflation. In the subsequent periods, inflation expectations adjust to period the former periods’ observed inflation, shifting AS downward. Over time, output returns to its long-term level and inflation stabilizes. Nominal wage rigidities and slow expectation adjustments influence this process.\n",
    "\n",
    "**Temporary supply shock:**\n",
    "If we instead change the sliders to a negative value of $s=-0.01$ and a duration of s of 1 (and no demand shock), this corresponds to a positive supply shock, like in the analysis for Figure 1 above. In the first period, a temporary positive supply shock ($s < 0$) shifts AS down by the size of the shock s, creating a new short-term equilibrium. Inflation falls to $\\pi_1 < \\pi^*$, but not entirely with the shock’s size, as the central bank responds by easing monetary policy (lowering interest rates), boosting output ($y_1>\\bar{y}$). In the second period where $s=0$, AS shifts up. However, static expectations prompt the agents to adjust inflation expectations, keeping the AS-curve from returning directly. In all subsequent periods, inflation expectations adjust to observed inflation in the former period, pushing AS gradually up. Successive expectation adjustments lead output towards $\\bar{y}$ and inflation towards $\\pi^*$. Persistence in convergence is due to nominal wage rigidities and slow adjustment of expectations."
   ]
  },
  {
   "cell_type": "code",
   "execution_count": 37,
   "metadata": {},
   "outputs": [
    {
     "data": {
      "application/vnd.jupyter.widget-view+json": {
       "model_id": "f221fbf6429b49558d3d87de9d410bed",
       "version_major": 2,
       "version_minor": 0
      },
      "text/plain": [
       "interactive(children=(IntSlider(value=20, description='Total Periods (T)', max=50, min=1), FloatSlider(value=0…"
      ]
     },
     "metadata": {},
     "output_type": "display_data"
    }
   ],
   "source": [
    "def interactive_perm(T, z, s, gamma):\n",
    "    z_duration = s_duration = T  # Set both durations equal to T for permanent shocks\n",
    "    model = ASAD(T=T, gamma=gamma, z=z, s=s, z_duration=z_duration, s_duration=s_duration)\n",
    "    model.solve_model()\n",
    "    model.plot_ad_as()\n",
    "\n",
    "# Create sliders for interactive input\n",
    "T_slider = IntSlider(min=1, max=50, step=1, value=20, description='Total Periods (T)')\n",
    "z_slider = FloatSlider(min=-0.1, max=0.1, step=0.001, value=0.01, description='Demand Shock (z)', readout_format='.3f')\n",
    "s_slider = FloatSlider(min=-0.01, max=0.01, step=0.001, value=0, description='Supply Shock (s)', readout_format='.3f')\n",
    "gamma_slider = FloatSlider(min=0.1, max=2.0, step=0.1, value=1.0, description='Gamma')\n",
    "\n",
    "# Display the interactive plot\n",
    "interactive_plot = interactive(interactive_perm, T=T_slider, z=z_slider, s=s_slider, gamma=gamma_slider)\n",
    "display(interactive_plot)\n",
    "\n"
   ]
  },
  {
   "cell_type": "markdown",
   "metadata": {},
   "source": [
    "In Figure 3, the durations of the shocks are set equal to T (total periods), so changing the slider for the shocks shows the effects of permanent shocks in the AS-AD-model. \n",
    "\n",
    "**Permanent demand shocks:**\n",
    "We find that demand shocks do not affect the economy in the long run. In the long run, a demand shock in an AS-AD economy leads to the economy returning to its natural output level, $\\bar{y}$. Initially higher output and inflation caused by increased demand gradually stabilize as prices, wages, and inflation expectations adjust back to their long-term equilibrium levels. Central banks typically adjust monetary policy to ensure inflation returns to its target, contributing to the economy's eventual return to equilibrium.\n",
    "\n",
    "**Permanent supply shocks:**\n",
    "Supply shocks, however, affect both the AS and AD-curves in the long run. When there is a positive supply shock, such as technological advancements or increased productivity, the AS curve shifts to the right, reflecting higher potential output levels and lower costs for producers. This shift leads to:\n",
    "* Gradual decreases in prices as goods become more abundant and cheaper to produce.\n",
    "* Initially, an increase in real incomes and purchasing power due to lower prices.\n",
    "* Over time, the AD curve shifts rightward as consumers and businesses respond to lower prices by increasing their spending and investment.\n",
    "Conversely, a negative supply shock, like higher production costs or reduced productivity, shifts the AS curve to the left:\n",
    "* Output decreases as it becomes more costly to produce goods and services.\n",
    "* Prices rise as supply becomes constrained, reducing consumer purchasing power.\n",
    "* Initially, the AD curve may shift leftward as higher prices reduce consumer spending and investment.\n"
   ]
  },
  {
   "cell_type": "markdown",
   "metadata": {},
   "source": [
    "## Social loss function "
   ]
  },
  {
   "cell_type": "markdown",
   "metadata": {},
   "source": [
    "In this section, we look at the social loss of shocks to inflation and output. Social loss is minimized when the following function is minimized:\n",
    "$$ L_t = (\\pi_t - \\pi^*)^2 + \\alpha (y_t - \\bar{y})^2 $$\n"
   ]
  },
  {
   "cell_type": "code",
   "execution_count": 38,
   "metadata": {},
   "outputs": [
    {
     "data": {
      "application/vnd.jupyter.widget-view+json": {
       "model_id": "2fd28beea4c04bad8264542602eaf04b",
       "version_major": 2,
       "version_minor": 0
      },
      "text/plain": [
       "interactive(children=(IntSlider(value=20, description='Total Periods (T)', min=10), FloatSlider(value=0.01, de…"
      ]
     },
     "metadata": {},
     "output_type": "display_data"
    }
   ],
   "source": [
    "def interactive_SL(T, z, s, z_duration, s_duration):\n",
    "    model = ASAD(T=T, z=z, s=s, z_duration=z_duration, s_duration=s_duration)\n",
    "    model.solve_model()\n",
    "    #model.plot_results()\n",
    "    model.plot_social_loss()\n",
    "\n",
    "# Create sliders for interactive input\n",
    "T_slider = IntSlider(min=10, max=100, step=1, value=20, description='Total Periods (T)')\n",
    "z_slider = FloatSlider(min=-0.2, max=0.2, step=0.01, value=0.01, description='Demand Shock (z)')\n",
    "s_slider = FloatSlider(min=-0.2, max=0.2, step=0.01, value=0, description='Supply Shock (s)')\n",
    "z_duration_slider = IntSlider(min=0, max=50, step=1, value=1, description='Duration of z')\n",
    "s_duration_slider = IntSlider(min=0, max=50, step=1, value=0, description='Duration of s')\n",
    "\n",
    "# Display the interactive plot\n",
    "interactive_plot = interactive(interactive_SL, T=T_slider, z=z_slider, s=s_slider, z_duration=z_duration_slider, s_duration=s_duration_slider)\n",
    "display(interactive_plot)"
   ]
  },
  {
   "cell_type": "markdown",
   "metadata": {},
   "source": [
    "Figure 4 illustrates the social loss function resulting from the different shocks from adjusting the sliders. Initially, both shocks lead to increased social costs, peaking during the shock periods. Over time, social loss gradually diminishes and approaches zero.\n",
    "This trend highlights that while initial shocks disrupt economic stability, the economy adapts and mitigates these impacts over the longer term. Ultimately, the convergence to zero reflects the economy's ability to return to equilibrium despite temporary disturbances."
   ]
  },
  {
   "cell_type": "markdown",
   "metadata": {},
   "source": [
    "## NUMERICAL SOLUTION   "
   ]
  },
  {
   "cell_type": "markdown",
   "metadata": {},
   "source": [
    "In Hans Jørgen Whitta-Jacobsen and Peter Birch Sørensen’s book, \"Introduction to Advanced Macroeconomics,\" we the optimal parameter values $\\alpha = 0.7$ and $\\gamma = 0.075$, which we utilize for the numerical solution."
   ]
  },
  {
   "cell_type": "markdown",
   "metadata": {},
   "source": [
    "## OBS!!!!"
   ]
  },
  {
   "cell_type": "code",
   "execution_count": 39,
   "metadata": {},
   "outputs": [
    {
     "ename": "NameError",
     "evalue": "name 'optimal_par_gh' is not defined",
     "output_type": "error",
     "traceback": [
      "\u001b[0;31m---------------------------------------------------------------------------\u001b[0m",
      "\u001b[0;31mNameError\u001b[0m                                 Traceback (most recent call last)",
      "Input \u001b[0;32mIn [39]\u001b[0m, in \u001b[0;36m<cell line: 2>\u001b[0;34m()\u001b[0m\n\u001b[1;32m      1\u001b[0m \u001b[38;5;66;03m#Evaluating the social loss at the optimal parameter values\u001b[39;00m\n\u001b[0;32m----> 2\u001b[0m optimal_g \u001b[38;5;241m=\u001b[39m \u001b[43moptimal_par_gh\u001b[49m\u001b[38;5;241m.\u001b[39mx[\u001b[38;5;241m0\u001b[39m]\n\u001b[1;32m      3\u001b[0m optimal_alpha_1 \u001b[38;5;241m=\u001b[39m optimal_par_gh\u001b[38;5;241m.\u001b[39mx[\u001b[38;5;241m1\u001b[39m]\n\u001b[1;32m      4\u001b[0m optimal_social_loss \u001b[38;5;241m=\u001b[39m social_loss([optimal_g, optimal_alpha_1])\n",
      "\u001b[0;31mNameError\u001b[0m: name 'optimal_par_gh' is not defined"
     ]
    }
   ],
   "source": [
    "#Evaluating the social loss at the optimal parameter values\n",
    "optimal_g = optimal_par_gh.x[0]\n",
    "optimal_alpha_1 = optimal_par_gh.x[1]\n",
    "optimal_social_loss = social_loss([optimal_g, optimal_alpha_1])\n",
    "\n",
    "#Generating a range of parameter combinations\n",
    "g_values = np.linspace(0, 0.1, 100)   #Generating 100 equally spaced values between 0 and 0.1 for parameter g\n",
    "alpha_1_values = np.linspace(0, 3, 100)   #Generating 100 equally spaced values between 0 and 3 for parameter alpha_1\n",
    "social_loss_values = np.zeros((100, 100))   #Creating a 100x100 array to store social loss values\n",
    "\n",
    "#Calculating social loss for each parameter combination\n",
    "for i, g in enumerate(g_values):\n",
    "    for j, alpha_1 in enumerate(alpha_1_values):\n",
    "        social_loss_values[i, j] = social_loss([g, alpha_1])   #Calculating social loss for each parameter combination\n",
    "\n",
    "#Finding the minimum social loss and its corresponding parameter values\n",
    "min_loss = np.min(social_loss_values)   #Finding the minimum social loss value from the array\n",
    "min_loss_idx = np.unravel_index(np.argmin(social_loss_values), social_loss_values.shape)   #Finding the indices of the minimum loss value\n",
    "min_loss_g = g_values[min_loss_idx[0]]   #Extracting the corresponding value of g for the minimum loss\n",
    "min_loss_alpha_1 = alpha_1_values[min_loss_idx[1]]   #Extracting the corresponding value of alpha_1 for the minimum loss\n",
    "\n",
    "#Compare the optimal social loss with the minimum social loss\n",
    "if np.isclose(optimal_social_loss, min_loss):\n",
    "    print(\"The optimal parameter values do indeed minimize the social loss function.\")   #Text indicating that the optimal parameter values minimize the social loss function\n",
    "else:\n",
    "    print(\"The optimal parameter values may not minimize the social loss function.\")   #Text indicating that they may not minimize the social loss function\n",
    "\n",
    "#Printing the optimal social loss and the minimum social loss\n",
    "print(\"Optimal Social Loss:\", optimal_social_loss)   #Print the value of the optimal social loss\n",
    "print(\"Minimum Social Loss:\", min_loss)   #Print the value of the minimum social loss"
   ]
  },
  {
   "cell_type": "markdown",
   "metadata": {},
   "source": [
    "Next, we check the convergence of social loss:"
   ]
  },
  {
   "cell_type": "code",
   "execution_count": null,
   "metadata": {},
   "outputs": [],
   "source": [
    "#Defining an empty list to store the social loss values across iterations\n",
    "social_loss_history = []\n",
    "\n",
    "#Optimizing with convergence monitoring\n",
    "def optimization_callback(xk, _):\n",
    "\n",
    "    #social_loss_val is calculated at each iteration and appendeds it to the social_loss_history list\n",
    "    social_loss_val = social_loss(xk)\n",
    "    social_loss_history.append(social_loss_val)\n",
    "    print(\"Current social loss:\", social_loss_val)\n",
    "\n",
    "#Optimization using Trust Region Constraint method\n",
    "#optimal_par_gh minimizes the social_loss function with respect to the parameters [initial_g, initial_alpha_1] \n",
    "optimal_par_gh = opt.minimize(social_loss, [initial_g, initial_alpha_1], method='trust-constr', callback=optimization_callback)\n",
    "\n",
    "#Checking if the social loss has converged by comparing the last two values in social_loss_history\n",
    "if len(social_loss_history) > 1 and np.isclose(social_loss_history[-1], social_loss_history[-2]):\n",
    "    print(\"The optimization has converged.\")\n",
    "else:\n",
    "    print(\"The optimization may not have converged.\")\n",
    "\n",
    "#Plotting the convergence of the social loss function\n",
    "plt.plot(range(len(social_loss_history)), social_loss_history)\n",
    "plt.xlabel(\"Iteration\")\n",
    "plt.ylabel(\"Social Loss\")\n",
    "plt.title(\"Figure 3: Convergence of Social Loss\")\n",
    "plt.show()"
   ]
  },
  {
   "cell_type": "markdown",
   "metadata": {},
   "source": [
    "We now check how steady state is affected by monetary policy interventions:"
   ]
  },
  {
   "cell_type": "code",
   "execution_count": null,
   "metadata": {},
   "outputs": [],
   "source": [
    "# Create an instance of monetary_policy_intervention class\n",
    "\n",
    "\n",
    "# Set the desired interest rate for the policy intervention (decrease in interest rate)\n",
    "interest_rate = -0.2\n",
    "\n",
    "# Analyze the policy intervention\n",
    "steady_state_before, steady_state_after = model.analyze_policy_intervention(interest_rate)\n",
    "\n",
    "# Compare the steady state values\n",
    "print(\"Steady state value before policy intervention:\", steady_state_before)\n",
    "print(\"Steady state value after policy intervention:\", steady_state_after)"
   ]
  },
  {
   "cell_type": "markdown",
   "metadata": {},
   "source": [
    "## Conclusion"
   ]
  },
  {
   "cell_type": "markdown",
   "metadata": {},
   "source": [
    "In conclusion, this project has examined the impact of shocks on a basic AS/AD model within a closed economy in the short term. Through our analysis, we investigated the repercussions of variations in shocks and a social loss function."
   ]
  }
 ],
 "metadata": {
  "kernelspec": {
   "display_name": "base",
   "language": "python",
   "name": "python3"
  },
  "language_info": {
   "codemirror_mode": {
    "name": "ipython",
    "version": 3
   },
   "file_extension": ".py",
   "mimetype": "text/x-python",
   "name": "python",
   "nbconvert_exporter": "python",
   "pygments_lexer": "ipython3",
   "version": "3.11.7"
  },
  "toc-autonumbering": true,
  "vscode": {
   "interpreter": {
    "hash": "47ef90cdf3004d3f859f1fb202523c65c07ba7c22eefd261b181f4744e2d0403"
   }
  }
 },
 "nbformat": 4,
 "nbformat_minor": 4
}
