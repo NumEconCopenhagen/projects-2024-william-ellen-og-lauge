{
 "cells": [
  {
   "cell_type": "markdown",
   "metadata": {},
   "source": [
    "# An AS/AD-model for a closed economy in the short run"
   ]
  },
  {
   "cell_type": "markdown",
   "metadata": {},
   "source": [
    "This project analyzes the effects of shocks to a simple AS/AD-model for a closed economy in the short run. We use the model to analyze changes in taxes, government spending and monetary policy. "
   ]
  },
  {
   "cell_type": "markdown",
   "metadata": {},
   "source": [
    "Imports and set magics:"
   ]
  },
  {
   "cell_type": "code",
   "execution_count": 1,
   "metadata": {},
   "outputs": [],
   "source": [
    "import sympy as sm\n",
    "import numpy as np\n",
    "import matplotlib.pyplot as plt\n",
    "from ipywidgets import interact, FloatSlider\n",
    "\n",
    "plt.rcParams.update({\"axes.grid\":True,\"grid.color\":\"darkblue\",\"grid.alpha\":\"0.3\",\"grid.linestyle\":\"--\"})\n",
    "plt.rcParams.update({'font.size': 12})\n",
    "\n",
    "# autoreload modules when code is run\n",
    "%load_ext autoreload\n",
    "%autoreload 2\n",
    "\n",
    "from modelproject import plot_ad_as\n"
   ]
  },
  {
   "cell_type": "markdown",
   "metadata": {},
   "source": [
    "# Model description"
   ]
  },
  {
   "cell_type": "markdown",
   "metadata": {},
   "source": [
    "The model used in this project is a version of a closed economy AS/AD-model as outlined in \"Introducing Advanced Macroeconomics - Growth and Business Cycles\" by Peter Birch Sørensen & Hans Jørgen Whitta-Jacobsen.  \n",
    "\n",
    "We use the following equations to describe our model: \n",
    "\n",
    "**1: IS-curve** - Market equilibrium with government spending and taxes\n",
    "\n",
    "$$\n",
    "y_t-\\bar{y} = \\alpha_1 (g_t-\\bar{g}) - \\alpha_2(r_t-\\bar{r})-\\alpha_{3}(\\tau_{t}-\\overline{\\tau})\n",
    "$$\n",
    "\n",
    "**2: Fischer Equation** - In ex-ante (modeled by expected inflation)\n",
    "\n",
    "$$\n",
    "r_t = i_t-\\pi^{e}_{t+1}\n",
    "$$\n",
    "\n",
    "**3: Monetary policy rule** - The Taylor-Rule with stabilization wrt. both inflation and output\n",
    "\n",
    "$$\n",
    "i_t = \\bar{r} + \\pi^{e}_{t+1} + h(\\pi_t - \\pi^*) + b(y_t- \\bar{y})\n",
    "$$\n",
    "\n",
    "**4: The SRAS curve** - This is derived from the expectations-augmented Phillips-curve. For given inflation expectations, there is a positive correlation between inflation and outputgap. \n",
    "\n",
    "$$\n",
    "\\pi_t = \\pi_t^e + \\gamma (y_t-\\bar{y}) + s_t\n",
    "$$\n",
    "\n",
    "\n",
    "**5: Inflation expectations** - This equation shows that the agents have static inflation expectations, since they expect inflation in period t to be equal to observed inflation in the previous period. \n",
    "\n",
    "$$\n",
    "\\pi_t^e = \\pi_{t-1}\n",
    "$$"
   ]
  },
  {
   "cell_type": "markdown",
   "metadata": {},
   "source": [
    "From the above equations, we can define the AD-curve and the AS-curve: \n",
    "\n",
    "\n",
    "The AD-curve combines equations 1, 2 and 3. Inserting 3 in 2:\n",
    "\n",
    "$$\n",
    "r_t = \\bar{r} + \\pi^{e}_{t+1} + h(\\pi_t - \\pi^*) + b(y_t- \\bar{y})-\\pi^{e}_{t+1}\n",
    "$$\n",
    "$$\n",
    "r_t = \\bar{r} + h(\\pi_t - \\pi^*) + b(y_t- \\bar{y})\n",
    "$$\n",
    "Inserting in eq. 1:\n",
    "$$\n",
    "y_t-\\bar{y} = \\alpha_1 (g_t-\\bar{g}) - \\alpha_2(\\bar{r} + h(\\pi_t - \\pi^*) + b(y_t- \\bar{y})-\\bar{r})-\\alpha_{3}(\\tau_{t}-\\overline{\\tau})\n",
    "$$\n",
    "$$\n",
    "y_t-\\bar{y} = \\alpha_1 (g_t-\\bar{g}) - \\alpha_2(h(\\pi_t - \\pi^*) + b(y_t- \\bar{y}))-\\alpha_{3}(\\tau_{t}-\\overline{\\tau})\n",
    "$$\n",
    "Isolating $y_t-\\bar{y}$:\n",
    "$$\n",
    "y_t-\\bar{y} = z-\\alpha(\\pi_t - \\pi^*)\n",
    "$$\n",
    "where\n",
    "$$\n",
    "z = \\frac{\\alpha_1}{1+\\alpha_2b}(g_t-\\bar{g})-\\frac{\\alpha_3}{1+\\alpha_2b}(\\tau_t-\\bar{\\tau}), \\alpha = \\frac{\\alpha_2 h}{1+\\alpha_2b}\n",
    "$$\n",
    "\n",
    "The AS-curve is found by inserting equation 5 in 4:\n",
    "\n",
    "$$\n",
    "\\pi_t = \\pi_{t-1} + \\gamma(y_t-\\bar{y}) + s_t $$"
   ]
  },
  {
   "cell_type": "markdown",
   "metadata": {},
   "source": [
    "## Analytical solution"
   ]
  },
  {
   "cell_type": "markdown",
   "metadata": {},
   "source": [
    "If your model allows for an analytical solution, you should provide here.\n",
    "\n",
    "You may use Sympy for this. Then you can characterize the solution as a function of a parameter of the model.\n",
    "\n",
    "To characterize the solution, first derive a steady state equation as a function of a parameter using Sympy.solve and then turn it into a python function by Sympy.lambdify. See the lecture notes for details. "
   ]
  },
  {
   "cell_type": "code",
   "execution_count": 2,
   "metadata": {},
   "outputs": [
    {
     "data": {
      "application/vnd.jupyter.widget-view+json": {
       "model_id": "8dcec35fdabc494a86c03032e04d54e1",
       "version_major": 2,
       "version_minor": 0
      },
      "text/plain": [
       "interactive(children=(FloatSlider(value=0.0, description='s', max=2.0, min=-2.0), IntSlider(value=100, descrip…"
      ]
     },
     "metadata": {},
     "output_type": "display_data"
    },
    {
     "data": {
      "text/plain": [
       "<function modelproject.plot_ad_as(s=0, y_bar=100, pi_star=2, alpha1=1, alpha2=1, alpha3=1, b=1, g=1, g_bar=1, tau=1, tau_bar=1, h=1, gamma=0.5)>"
      ]
     },
     "execution_count": 2,
     "metadata": {},
     "output_type": "execute_result"
    }
   ],
   "source": [
    "\n",
    "\n",
    "# Interactive plot with FloatSlider\n",
    "interact(plot_ad_as, s=FloatSlider(min=-2, max=2, step=0.1, value=0))\n"
   ]
  },
  {
   "cell_type": "markdown",
   "metadata": {},
   "source": [
    "## Numerical solution"
   ]
  },
  {
   "cell_type": "markdown",
   "metadata": {},
   "source": [
    "You can always solve a model numerically. \n",
    "\n",
    "Define first the set of parameters you need. \n",
    "\n",
    "Then choose one of the optimization algorithms that we have gone through in the lectures based on what you think is most fitting for your model.\n",
    "\n",
    "Are there any problems with convergence? Does the model converge for all starting values? Make a lot of testing to figure these things out. "
   ]
  },
  {
   "cell_type": "markdown",
   "metadata": {},
   "source": [
    "# Further analysis"
   ]
  },
  {
   "cell_type": "markdown",
   "metadata": {},
   "source": [
    "Make detailed vizualizations of how your model changes with parameter values. \n",
    "\n",
    "Try to make an extension of the model. "
   ]
  },
  {
   "cell_type": "markdown",
   "metadata": {},
   "source": [
    "# Conclusion"
   ]
  },
  {
   "cell_type": "markdown",
   "metadata": {},
   "source": [
    "Add concise conclusion. "
   ]
  }
 ],
 "metadata": {
  "kernelspec": {
   "display_name": "base",
   "language": "python",
   "name": "python3"
  },
  "language_info": {
   "codemirror_mode": {
    "name": "ipython",
    "version": 3
   },
   "file_extension": ".py",
   "mimetype": "text/x-python",
   "name": "python",
   "nbconvert_exporter": "python",
   "pygments_lexer": "ipython3",
   "version": "3.11.7"
  },
  "toc-autonumbering": true,
  "vscode": {
   "interpreter": {
    "hash": "47ef90cdf3004d3f859f1fb202523c65c07ba7c22eefd261b181f4744e2d0403"
   }
  }
 },
 "nbformat": 4,
 "nbformat_minor": 4
}
