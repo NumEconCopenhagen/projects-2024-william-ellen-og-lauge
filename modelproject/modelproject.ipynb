{
 "cells": [
  {
   "cell_type": "markdown",
   "metadata": {},
   "source": [
    "# An AS/AD-model for a closed economy in the short run"
   ]
  },
  {
   "cell_type": "markdown",
   "metadata": {},
   "source": [
    "**This project analyzes the effects of shocks to a simple AS/AD-model for a closed economy in the short run. We use the model to analyze supply- and demand shocks as well as minimizing a social loss function.**"
   ]
  },
  {
   "cell_type": "markdown",
   "metadata": {},
   "source": [
    "Imports and set magics:"
   ]
  },
  {
   "cell_type": "code",
   "execution_count": 12,
   "metadata": {},
   "outputs": [
    {
     "name": "stdout",
     "output_type": "stream",
     "text": [
      "The autoreload extension is already loaded. To reload it, use:\n",
      "  %reload_ext autoreload\n"
     ]
    }
   ],
   "source": [
    "import sympy as sp\n",
    "import numpy as np\n",
    "import matplotlib.pyplot as plt\n",
    "from ipywidgets import interactive, IntSlider, FloatSlider\n",
    "import scipy.optimize as opt\n",
    "\n",
    "plt.rcParams.update({\"axes.grid\": True, \"grid.color\": \"darkblue\", \"grid.alpha\": \"0.3\", \"grid.linestyle\": \"--\"})\n",
    "plt.rcParams.update({'font.size': 12})\n",
    "\n",
    "# autoreload modules when code is run\n",
    "%load_ext autoreload\n",
    "%autoreload 2\n",
    "\n",
    "import modelproject\n",
    "from modelproject import EconomicModel\n"
   ]
  },
  {
   "cell_type": "markdown",
   "metadata": {},
   "source": [
    "# Model description"
   ]
  },
  {
   "cell_type": "markdown",
   "metadata": {},
   "source": [
    "The model used in this project is a version of a closed economy AS/AD-model as outlined in \"Introducing Advanced Macroeconomics - Growth and Business Cycles\" by Peter Birch Sørensen & Hans Jørgen Whitta-Jacobsen.  \n",
    "\n",
    "We use the following equations to describe our model: \n",
    "\n",
    "**1: IS-curve** - Market equilibrium with government spending and taxes.\n",
    "\n",
    "$$\n",
    "y_t-\\bar{y} = \\alpha_1 (g_t-\\bar{g}) - \\alpha_2(r_t-\\bar{r})-\\alpha_{3}(\\tau_{t}-\\overline{\\tau})\n",
    "$$\n",
    "\n",
    "**2: Fischer Equation** - In ex-ante (modeled by expected inflation).\n",
    "\n",
    "$$\n",
    "r_t = i_t-\\pi^{e}_{t+1}\n",
    "$$\n",
    "\n",
    "**3: Monetary policy rule** - The Taylor-Rule with stabilization wrt. both inflation and output\n",
    "\n",
    "$$\n",
    "i_t = \\bar{r} + \\pi^{e}_{t+1} + h(\\pi_t - \\pi^*) + b(y_t- \\bar{y})\n",
    "$$\n",
    "\n",
    "**4: The SRAS curve** - This is derived from the expectations-augmented Phillips-curve. For given inflation expectations, there is a positive correlation between inflation and outputgap. \n",
    "\n",
    "$$\n",
    "\\pi_t = \\pi_t^e + \\gamma (y_t-\\bar{y}) + s_t\n",
    "$$\n",
    "\n",
    "\n",
    "**5: Inflation expectations** - This equation shows that the agents have static inflation expectations, since they expect inflation in period t to be equal to observed inflation in the previous period. \n",
    "\n",
    "$$\n",
    "\\pi_t^e = \\pi_{t-1}\n",
    "$$"
   ]
  },
  {
   "cell_type": "markdown",
   "metadata": {},
   "source": [
    "From the above equations, we can define the AD-curve and the AS-curve: \n",
    "\n",
    "\n",
    "The AD-curve combines equations 1, 2 and 3. Inserting 3 in 2:\n",
    "\n",
    "$$\n",
    "r_t = \\bar{r} + \\pi^{e}_{t+1} + h(\\pi_t - \\pi^*) + b(y_t- \\bar{y})-\\pi^{e}_{t+1}\n",
    "$$\n",
    "$$\n",
    "r_t = \\bar{r} + h(\\pi_t - \\pi^*) + b(y_t- \\bar{y})\n",
    "$$\n",
    "Inserting in eq. 1:\n",
    "$$\n",
    "y_t-\\bar{y} = \\alpha_1 (g_t-\\bar{g}) - \\alpha_2(\\bar{r} + h(\\pi_t - \\pi^*) + b(y_t- \\bar{y})-\\bar{r})-\\alpha_{3}(\\tau_{t}-\\overline{\\tau})\n",
    "$$\n",
    "$$\n",
    "y_t-\\bar{y} = \\alpha_1 (g_t-\\bar{g}) - \\alpha_2(h(\\pi_t - \\pi^*) + b(y_t- \\bar{y}))-\\alpha_{3}(\\tau_{t}-\\overline{\\tau})\n",
    "$$\n",
    "Isolating $y_t-\\bar{y}$:\n",
    "$$\n",
    "y_t-\\bar{y} = z-\\alpha(\\pi_t - \\pi^*)\n",
    "$$\n",
    "where\n",
    "$$\n",
    "z = \\frac{\\alpha_1}{1+\\alpha_2b}(g_t-\\bar{g})-\\frac{\\alpha_3}{1+\\alpha_2b}(\\tau_t-\\bar{\\tau}), \\alpha = \\frac{\\alpha_2 h}{1+\\alpha_2b}\n",
    "$$\n",
    "\n",
    "The AS-curve is found by inserting equation 5 in 4:\n",
    "\n",
    "$$\n",
    "\\pi_t = \\pi_{t-1} + \\gamma(y_t-\\bar{y}) + s_t $$"
   ]
  },
  {
   "cell_type": "markdown",
   "metadata": {},
   "source": [
    "## Analytical solution"
   ]
  },
  {
   "cell_type": "markdown",
   "metadata": {},
   "source": [
    "We firstly define our model in python using a class in our py-file. We use the model to make plots with interactive sliders for the demand shock, z, and the supply shock, s. \n",
    "\n"
   ]
  },
  {
   "cell_type": "code",
   "execution_count": 14,
   "metadata": {},
   "outputs": [
    {
     "data": {
      "application/vnd.jupyter.widget-view+json": {
       "model_id": "bd063b5af58b4e168ad4058e1b48ead5",
       "version_major": 2,
       "version_minor": 0
      },
      "text/plain": [
       "interactive(children=(IntSlider(value=20, description='Total Periods', min=10), FloatSlider(value=0.01, descri…"
      ]
     },
     "metadata": {},
     "output_type": "display_data"
    }
   ],
   "source": [
    "def interactive_gap(periods, demand_shock, supply_shock, demand_duration, supply_duration):\n",
    "    model = EconomicModel(periods=periods, demand_shock=demand_shock, supply_shock=supply_shock, \n",
    "                          demand_duration=demand_duration, supply_duration=supply_duration)\n",
    "    model.calculate_model()\n",
    "    model.display_results()\n",
    "\n",
    "# Create sliders for interactive input\n",
    "periods_slider = IntSlider(min=10, max=100, step=1, value=20, description='Total Periods')\n",
    "demand_shock_slider = FloatSlider(min=-0.2, max=0.2, step=0.01, value=0.01, description='Demand Shock')\n",
    "supply_shock_slider = FloatSlider(min=-0.2, max=0.2, step=0.01, value=0, description='Supply Shock')\n",
    "demand_duration_slider = IntSlider(min=0, max=50, step=1, value=1, description='Duration of Demand Shock')\n",
    "supply_duration_slider = IntSlider(min=0, max=50, step=1, value=0, description='Duration of Supply Shock')\n",
    "\n",
    "# Display the interactive plot\n",
    "interactive_plot = interactive(interactive_gap, periods=periods_slider, demand_shock=demand_shock_slider, \n",
    "                               supply_shock=supply_shock_slider, demand_duration=demand_duration_slider, \n",
    "                               supply_duration=supply_duration_slider)\n",
    "display(interactive_plot)\n"
   ]
  },
  {
   "cell_type": "markdown",
   "metadata": {},
   "source": [
    "**Temporary demand shock:**\n",
    "In Figure 1, the initial values show a demand shock, z, of value 0.01, with a duration of 1 period (and no supply shock). This shock could arise from increased government spending, reduced taxes, or adjustments in monetary policy parameters such as the sensitivity of nominal interest rates to output gap changes. Initially, both the output gap and inflation rise in response to this positive shock. In the subsequent period, although the demand shock dissipates, static inflation expectations persist among economic agents, leading them to anticipate continued higher inflation. However, actual inflation turns out to be lower than expected, resulting in a negative output gap. As agents gradually revise their expectations to match observed inflation, inflation converges back to its original level post-shock.\n",
    "\n",
    "**Temporary supply shock:**\n",
    "If we instead change the sliders to a negative value of $s=-0.01$ and a duration of s of 1 (and no demand shock), this corresponds to a positive supply shock (e.g., more production at lower costs). We find that the output gap increases and after the first period converges back to zero, while the inflation gap becomes negative and gradually converges back to zero. We will elaborate on the effects in the AS-AD-plot below. "
   ]
  },
  {
   "cell_type": "code",
   "execution_count": 15,
   "metadata": {},
   "outputs": [
    {
     "data": {
      "application/vnd.jupyter.widget-view+json": {
       "model_id": "8c8ce011ee514622b4daf10626b58e11",
       "version_major": 2,
       "version_minor": 0
      },
      "text/plain": [
       "interactive(children=(IntSlider(value=20, description='Total Periods', max=50, min=1), FloatSlider(value=0.01,…"
      ]
     },
     "metadata": {},
     "output_type": "display_data"
    }
   ],
   "source": [
    "def interactive_model(periods, demand_shock, supply_shock, gamma, demand_duration, supply_duration):\n",
    "    model = EconomicModel(periods=periods, gamma=gamma, demand_shock=demand_shock, supply_shock=supply_shock, \n",
    "                          demand_duration=demand_duration, supply_duration=supply_duration)\n",
    "    model.calculate_model()\n",
    "    model.display_ad_as()\n",
    "\n",
    "# Create sliders for interactive input\n",
    "periods_slider = IntSlider(min=1, max=50, step=1, value=20, description='Total Periods')\n",
    "demand_shock_slider = FloatSlider(min=-0.1, max=0.1, step=0.01, value=0.01, description='Demand Shock')\n",
    "supply_shock_slider = FloatSlider(min=-0.1, max=0.1, step=0.01, value=0, description='Supply Shock')\n",
    "gamma_slider = FloatSlider(min=0.1, max=2.0, step=0.1, value=1.0, description='Gamma')\n",
    "demand_duration_slider = IntSlider(min=0, max=50, step=1, value=1, description='Duration of Demand Shock')\n",
    "supply_duration_slider = IntSlider(min=0, max=50, step=1, value=0, description='Duration of Supply Shock')\n",
    "\n",
    "# Display interactive widgets\n",
    "interactive_plot = interactive(interactive_model, periods=periods_slider, demand_shock=demand_shock_slider, \n",
    "                               supply_shock=supply_shock_slider, gamma=gamma_slider, \n",
    "                               demand_duration=demand_duration_slider, supply_duration=supply_duration_slider)\n",
    "display(interactive_plot)\n"
   ]
  },
  {
   "cell_type": "markdown",
   "metadata": {},
   "source": [
    "Figure 2 shows the AS-AD-model and includes sliders for the shocks, as in Figure 1. \n",
    "\n",
    "**Temporary demand shock:**\n",
    "The initial values show a demand shock, z, of value 0.01, with a duration of 1 period (and no supply shock). We see that in period 1, the demand shock raises output and inflation above long-term levels (economic boom). Increased demand boosts production and employment, leading to higher costs and inflation. The central bank responds with a tightening policy more than one-for-one with inflation, raising real interest rates and dampening demand. In period 2, the AD-curve shifts back to the initial AD-curve, as the demand shock fades. Higher inflation expectations from period 1 shift AS left/up in period 2, anticipating inflation. This drives wage demands, accelerates prices, and sustains elevated inflation. The central bank continues tightening to stabilize inflation. In the subsequent periods, inflation expectations adjust to period the former periods’ observed inflation, shifting AS downward. Over time, output returns to its long-term level and inflation stabilizes. Nominal wage rigidities and slow expectation adjustments influence this process.\n",
    "\n",
    "**Temporary supply shock:**\n",
    "If we instead change the sliders to a negative value of $s=-0.01$ and a duration of s of 1 (and no demand shock), this corresponds to a positive supply shock, like in the analysis for Figure 1 above. In the first period, a temporary positive supply shock ($s < 0$) shifts AS down by the size of the shock s, creating a new short-term equilibrium. Inflation falls to $\\pi_1 < \\pi^*$, but not entirely with the shock’s size, as the central bank responds by easing monetary policy (lowering interest rates), boosting output ($y_1>\\bar{y}$). In the second period where $s=0$, AS shifts up. However, static expectations prompt the agents to adjust inflation expectations, keeping the AS-curve from returning directly. In all subsequent periods, inflation expectations adjust to observed inflation in the former period, pushing AS gradually up. Successive expectation adjustments lead output towards $\\bar{y}$ and inflation towards $\\pi^*$. Persistence in convergence is due to nominal wage rigidities and slow adjustment of expectations."
   ]
  },
  {
   "cell_type": "code",
   "execution_count": 16,
   "metadata": {},
   "outputs": [
    {
     "data": {
      "application/vnd.jupyter.widget-view+json": {
       "model_id": "42ba91164a5047e793e897518107797c",
       "version_major": 2,
       "version_minor": 0
      },
      "text/plain": [
       "interactive(children=(IntSlider(value=20, description='Total Periods', max=50, min=1), FloatSlider(value=0.01,…"
      ]
     },
     "metadata": {},
     "output_type": "display_data"
    }
   ],
   "source": [
    "def interactive_permanent_shocks(total_periods, demand_shock, supply_shock, gamma_value):\n",
    "    demand_duration = supply_duration = total_periods  # Set both durations equal to total_periods for permanent shocks\n",
    "    model = EconomicModel(periods=total_periods, gamma=gamma_value, demand_shock=demand_shock, supply_shock=supply_shock, \n",
    "                          demand_duration=demand_duration, supply_duration=supply_duration)\n",
    "    model.calculate_model()\n",
    "    model.display_ad_as()\n",
    "\n",
    "# Create sliders for interactive input\n",
    "total_periods_slider = IntSlider(min=1, max=50, step=1, value=20, description='Total Periods')\n",
    "demand_shock_slider = FloatSlider(min=-0.1, max=0.1, step=0.001, value=0.01, description='Demand Shock', readout_format='.3f')\n",
    "supply_shock_slider = FloatSlider(min=-0.01, max=0.01, step=0.001, value=0, description='Supply Shock', readout_format='.3f')\n",
    "gamma_value_slider = FloatSlider(min=0.1, max=2.0, step=0.1, value=1.0, description='Gamma')\n",
    "\n",
    "# Display the interactive plot\n",
    "interactive_plot = interactive(interactive_permanent_shocks, total_periods=total_periods_slider, demand_shock=demand_shock_slider, \n",
    "                               supply_shock=supply_shock_slider, gamma_value=gamma_value_slider)\n",
    "display(interactive_plot)\n"
   ]
  },
  {
   "cell_type": "markdown",
   "metadata": {},
   "source": [
    "In Figure 3, the durations of the shocks are set equal to T (total periods), so changing the slider for the shocks shows the effects of permanent shocks in the AS-AD-model. \n",
    "\n",
    "**Permanent demand shocks:**\n",
    "We find that demand shocks do not affect the economy in the long run. In the long run, a demand shock in an AS-AD economy leads to the economy returning to its natural output level, $\\bar{y}$. Initially higher output and inflation caused by increased demand gradually stabilize as prices, wages, and inflation expectations adjust back to their long-term equilibrium levels. Central banks typically adjust monetary policy to ensure inflation returns to its target, contributing to the economy's eventual return to equilibrium.\n",
    "\n",
    "**Permanent supply shocks:**\n",
    "Supply shocks, however, affect both the AS and AD-curves in the long run. When there is a positive supply shock, such as technological advancements or increased productivity, the AS curve shifts to the right, reflecting higher potential output levels and lower costs for producers. This shift leads to:\n",
    "* Gradual decreases in prices as goods become more abundant and cheaper to produce.\n",
    "* Initially, an increase in real incomes and purchasing power due to lower prices.\n",
    "* Over time, the AD curve shifts rightward as consumers and businesses respond to lower prices by increasing their spending and investment.\n",
    "Conversely, a negative supply shock, like higher production costs or reduced productivity, shifts the AS curve to the left:\n",
    "* Output decreases as it becomes more costly to produce goods and services.\n",
    "* Prices rise as supply becomes constrained, reducing consumer purchasing power.\n",
    "* Initially, the AD curve may shift leftward as higher prices reduce consumer spending and investment.\n"
   ]
  },
  {
   "cell_type": "markdown",
   "metadata": {},
   "source": [
    "## Social loss function "
   ]
  },
  {
   "cell_type": "markdown",
   "metadata": {},
   "source": [
    "In this section, we look at the social loss of shocks to inflation and output. Social loss is minimized when the following function is minimized:\n",
    "$$ L_t = (\\pi_t - \\pi^*)^2 + \\alpha (y_t - \\bar{y})^2 $$\n"
   ]
  },
  {
   "cell_type": "code",
   "execution_count": 17,
   "metadata": {},
   "outputs": [
    {
     "data": {
      "application/vnd.jupyter.widget-view+json": {
       "model_id": "bb3a94c666c848eb913ae44fddf7d694",
       "version_major": 2,
       "version_minor": 0
      },
      "text/plain": [
       "interactive(children=(IntSlider(value=20, description='Total Periods', min=10), FloatSlider(value=0.01, descri…"
      ]
     },
     "metadata": {},
     "output_type": "display_data"
    }
   ],
   "source": [
    "def interactive_social_loss(total_periods, demand_shock, supply_shock, demand_shock_duration, supply_shock_duration):\n",
    "    model = EconomicModel(periods=total_periods, demand_shock=demand_shock, supply_shock=supply_shock, \n",
    "                          demand_duration=demand_shock_duration, supply_duration=supply_shock_duration)\n",
    "    model.calculate_model()\n",
    "    model.display_social_loss()\n",
    "\n",
    "# Create sliders for interactive input\n",
    "total_periods_slider = IntSlider(min=10, max=100, step=1, value=20, description='Total Periods')\n",
    "demand_shock_slider = FloatSlider(min=-0.2, max=0.2, step=0.01, value=0.01, description='Demand Shock')\n",
    "supply_shock_slider = FloatSlider(min=-0.2, max=0.2, step=0.01, value=0, description='Supply Shock')\n",
    "demand_shock_duration_slider = IntSlider(min=0, max=50, step=1, value=1, description='Duration of Demand Shock')\n",
    "supply_shock_duration_slider = IntSlider(min=0, max=50, step=1, value=0, description='Duration of Supply Shock')\n",
    "\n",
    "# Display the interactive plot\n",
    "interactive_plot = interactive(interactive_social_loss, total_periods=total_periods_slider, demand_shock=demand_shock_slider, \n",
    "                               supply_shock=supply_shock_slider, demand_shock_duration=demand_shock_duration_slider, \n",
    "                               supply_shock_duration=supply_shock_duration_slider)\n",
    "display(interactive_plot)\n"
   ]
  },
  {
   "cell_type": "markdown",
   "metadata": {},
   "source": [
    "Figure 4 illustrates the social loss function resulting from the different shocks from adjusting the sliders. Initially, both shocks lead to increased social costs, peaking during the shock periods. Over time, social loss gradually diminishes and approaches zero.\n",
    "This trend highlights that while initial shocks disrupt economic stability, the economy adapts and mitigates these impacts over the longer term. Ultimately, the convergence to zero reflects the economy's ability to return to equilibrium despite temporary disturbances."
   ]
  },
  {
   "cell_type": "markdown",
   "metadata": {},
   "source": [
    "## Numerical solution"
   ]
  },
  {
   "cell_type": "markdown",
   "metadata": {},
   "source": [
    "We now compute the numerical solution to the model. We create an instance of EconomicModel with 100 periods, a demand shock of 0.05, and a supply shock of 0.02. We find the optimal value of alpha that minimizes the output gap after the shock. In Hans Jørgen Whitta-Jacobsen and Peter Birch Sørensen’s book, \"Introduction to Advanced Macroeconomics,\" the optimal parameter value of $\\gamma = 0.075$, which we utilize for the numerical solution."
   ]
  },
  {
   "cell_type": "code",
   "execution_count": 23,
   "metadata": {},
   "outputs": [
    {
     "name": "stdout",
     "output_type": "stream",
     "text": [
      "Optimal Alpha: 2.4999999948197824\n",
      "Optimal Output Gap after Shock: 8.117528284510844e-11\n"
     ]
    }
   ],
   "source": [
    "# Optimizing the model\n",
    "model = EconomicModel(periods=100, demand_shock=0.05, supply_shock=0.02, gamma=0.075)\n",
    "optimal_alpha, optimal_output_gap = model.optimize_output_gap()\n",
    "\n",
    "# Printing the results\n",
    "print(f\"Optimal Alpha: {optimal_alpha}\")\n",
    "print(f\"Optimal Output Gap after Shock: {optimal_output_gap}\")\n"
   ]
  },
  {
   "cell_type": "markdown",
   "metadata": {},
   "source": [
    "We find that the optimal alpha is 2.5, which gives an outputgap after the shock of approx. zero. This alpha is higher than the empirical value of 0.7 from Whitta-Jacobsen and Birch Sørensen. In the numerical solution, we aim to minimize outputgap after the given shocks, why it is not surprising that we find a high alpha-value. A high alpha-value suggest an extremely high sensitivity of output to changes in inflation and supply shocks. Such a high alpha value implies that even small changes in inflation or supply shocks lead to very large adjustments in output from the central bank. This is due to a high value of h, meaning that the central bank adjusts the interest rate more when there are changes in inflation. "
   ]
  },
  {
   "cell_type": "markdown",
   "metadata": {},
   "source": [
    "## Conclusion"
   ]
  },
  {
   "cell_type": "markdown",
   "metadata": {},
   "source": [
    "In conclusion, this project has examined the impact of shocks on a basic AS/AD model within a closed economy in the short term. Through our analysis, we investigated the repercussions of variations in shocks and a social loss function, and found the optimal alpha to minimize outputgap after shocks."
   ]
  }
 ],
 "metadata": {
  "kernelspec": {
   "display_name": "base",
   "language": "python",
   "name": "python3"
  },
  "language_info": {
   "codemirror_mode": {
    "name": "ipython",
    "version": 3
   },
   "file_extension": ".py",
   "mimetype": "text/x-python",
   "name": "python",
   "nbconvert_exporter": "python",
   "pygments_lexer": "ipython3",
   "version": "3.11.7"
  },
  "toc-autonumbering": true,
  "vscode": {
   "interpreter": {
    "hash": "47ef90cdf3004d3f859f1fb202523c65c07ba7c22eefd261b181f4744e2d0403"
   }
  }
 },
 "nbformat": 4,
 "nbformat_minor": 4
}
